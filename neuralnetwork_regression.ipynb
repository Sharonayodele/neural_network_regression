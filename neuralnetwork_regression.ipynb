{
  "nbformat": 4,
  "nbformat_minor": 0,
  "metadata": {
    "colab": {
      "provenance": [],
      "include_colab_link": true
    },
    "kernelspec": {
      "name": "python3",
      "display_name": "Python 3"
    },
    "language_info": {
      "name": "python"
    }
  },
  "cells": [
    {
      "cell_type": "markdown",
      "metadata": {
        "id": "view-in-github",
        "colab_type": "text"
      },
      "source": [
        "<a href=\"https://colab.research.google.com/github/Sharonayodele/neural_network_regression/blob/main/neuralnetwork_regression.ipynb\" target=\"_parent\"><img src=\"https://colab.research.google.com/assets/colab-badge.svg\" alt=\"Open In Colab\"/></a>"
      ]
    },
    {
      "cell_type": "markdown",
      "source": [
        "##01. Neural network regression with Tensorflow\n",
        "A regression problem is simply to predict a number\n",
        "E.g Predict the prices of houses based on given features.\n",
        "predict the cost of medical insurance.\n",
        "\n",
        "I am going to use 2 exercises to practice all the steps involved in an end to end\n",
        "regression model\n",
        "- Exercise 1: predicting on simple test data(arithemtic progression)\n",
        "- Exercise 2: regression problem on **the cost of medical insurance for individuals based on a number of different parameters\n"
      ],
      "metadata": {
        "id": "Cx_99VSZNRJ1"
      }
    },
    {
      "cell_type": "markdown",
      "source": [
        "##Steps involved in an end to end deep learning project\n",
        "1. import necessary dependencies\n",
        "2. Study the data amd understand the problem\n",
        "2. read and load the dataset\n",
        "4. get the data ready/exploratory data analysis\n",
        "5. Choose a model\n",
        "    - create a model: split the dataset into training and test sets.\n",
        "    - compile the model: loss functn, optimizer, evaluation metrics\n",
        "    - fit the model: make predictions\n",
        "6. evaluate the model\n",
        "    - visualize the model\n",
        "    - look at the training curve\n",
        "7. improve the baseline model\n",
        "8. save and load model\n",
        "  "
      ],
      "metadata": {
        "id": "cszJMl_fNIyp"
      }
    },
    {
      "cell_type": "code",
      "source": [
        "import numpy as np\n",
        "import matplotlib.pyplot as plt\n"
      ],
      "metadata": {
        "id": "wVywBBFqL15b"
      },
      "execution_count": null,
      "outputs": []
    },
    {
      "cell_type": "markdown",
      "source": [
        "#Create data to view and fit"
      ],
      "metadata": {
        "id": "wfz0uOcsN1Ij"
      }
    },
    {
      "cell_type": "code",
      "source": [
        "X = np.array([-8., -6., -4., -2., 0, 2., 4., 6., 8.])  #features\n",
        "y = np.array([1., 3., 5., 7., 9., 11., 13., 15., 17.,])  #labels\n",
        "\n",
        "plt.scatter(X, y) #visualize it\n"
      ],
      "metadata": {
        "colab": {
          "base_uri": "https://localhost:8080/",
          "height": 448
        },
        "id": "qrOI_9Q9N9Jx",
        "outputId": "42c72040-5e9e-46d7-9da0-272e795fd657"
      },
      "execution_count": null,
      "outputs": [
        {
          "output_type": "execute_result",
          "data": {
            "text/plain": [
              "<matplotlib.collections.PathCollection at 0x7c87d9284670>"
            ]
          },
          "metadata": {},
          "execution_count": 5
        },
        {
          "output_type": "display_data",
          "data": {
            "text/plain": [
              "<Figure size 640x480 with 1 Axes>"
            ],
            "image/png": "[encoded data removed]"
          },
          "metadata": {}
        }
      ]
    },
    {
      "cell_type": "code",
      "source": [
        "import tensorflow as tf\n"
      ],
      "metadata": {
        "id": "URDchoJUQOXm"
      },
      "execution_count": null,
      "outputs": []
    },
    {
      "cell_type": "code",
      "source": [
        "#convert to tensors\n",
        "X = tf.constant(X)\n",
        "y = tf.constant(y)\n",
        "X.shape, y.shape"
      ],
      "metadata": {
        "colab": {
          "base_uri": "https://localhost:8080/"
        },
        "id": "xIUMsxRSPZFJ",
        "outputId": "cdf44849-93c5-4c3d-eaa4-f8763a46d709"
      },
      "execution_count": null,
      "outputs": [
        {
          "output_type": "execute_result",
          "data": {
            "text/plain": [
              "(TensorShape([9]), TensorShape([9]))"
            ]
          },
          "metadata": {},
          "execution_count": 7
        }
      ]
    },
    {
      "cell_type": "markdown",
      "source": [
        "# First Regression model"
      ],
      "metadata": {
        "id": "NFH8YjaPRE0X"
      }
    },
    {
      "cell_type": "code",
      "source": [
        "# set random seed for reproducibility\n",
        "tf.random.set_seed(42)\n",
        "\n",
        "#create amodel using the sequenrial API\n",
        "model_1 = tf.keras.Sequential([\n",
        "  tf.keras.layers.Dense(1)]\n",
        ")\n",
        "\n",
        "#compile model\n",
        "model_1.compile(loss=tf.keras.losses.mae,\n",
        "                optimizer=tf.keras.optimizers.SGD(),\n",
        "                metrics='mae')\n",
        "\n",
        "#fit the model\n",
        "model_1.fit(tf.expand_dims(X, axis=-1), y, epochs=5)"
      ],
      "metadata": {
        "colab": {
          "base_uri": "https://localhost:8080/"
        },
        "id": "Q7gmX_AXRQIt",
        "outputId": "26007ae8-e9d6-4b77-a7ba-fe550567fede"
      },
      "execution_count": null,
      "outputs": [
        {
          "output_type": "stream",
          "name": "stdout",
          "text": [
            "Epoch 1/5\n",
            "1/1 [==============================] - 0s 426ms/step - loss: 9.0000 - mae: 9.0000\n",
            "Epoch 2/5\n",
            "1/1 [==============================] - 0s 8ms/step - loss: 8.9900 - mae: 8.9900\n",
            "Epoch 3/5\n",
            "1/1 [==============================] - 0s 7ms/step - loss: 8.9800 - mae: 8.9800\n",
            "Epoch 4/5\n",
            "1/1 [==============================] - 0s 10ms/step - loss: 8.9700 - mae: 8.9700\n",
            "Epoch 5/5\n",
            "1/1 [==============================] - 0s 7ms/step - loss: 8.9600 - mae: 8.9600\n"
          ]
        },
        {
          "output_type": "execute_result",
          "data": {
            "text/plain": [
              "<keras.src.callbacks.History at 0x7c87d4078df0>"
            ]
          },
          "metadata": {},
          "execution_count": 8
        }
      ]
    },
    {
      "cell_type": "code",
      "source": [
        "# make a prediction\n",
        "model_1.predict([10.])"
      ],
      "metadata": {
        "colab": {
          "base_uri": "https://localhost:8080/"
        },
        "id": "GpfBA5TOT0EW",
        "outputId": "f896976a-2aaa-4231-cb4f-0e03e9fb2e1b"
      },
      "execution_count": null,
      "outputs": [
        {
          "output_type": "stream",
          "name": "stdout",
          "text": [
            "1/1 [==============================] - 0s 67ms/step\n"
          ]
        },
        {
          "output_type": "execute_result",
          "data": {
            "text/plain": [
              "array([[5.4437447]], dtype=float32)"
            ]
          },
          "metadata": {},
          "execution_count": 9
        }
      ]
    },
    {
      "cell_type": "markdown",
      "source": [
        "#it didn't go well. it should've been 19.0\n",
        "next we improve the model2"
      ],
      "metadata": {
        "id": "JAsP1HzPVz6O"
      }
    },
    {
      "cell_type": "markdown",
      "source": [
        "##How can we improve a model\n",
        "- increase the dense layer: make it deeper\n",
        "- increase the hidden units: make it wider\n",
        "- hyperparparamter tuning\n",
        "- train for longer"
      ],
      "metadata": {
        "id": "weAw8JiqWRd-"
      }
    },
    {
      "cell_type": "code",
      "source": [
        "# lets train for longer, epoch=100\n",
        "\n",
        "tf.random.set_seed(42)\n",
        "\n",
        "#create model\n",
        "model_2 = tf.keras.Sequential([\n",
        "    tf.keras.layers.Dense(1)\n",
        "])\n",
        "\n",
        "#compile model\n",
        "model_2.compile(loss=tf.keras.losses.mae,\n",
        "                optimizer=tf.keras.optimizers.SGD(),\n",
        "                metrics='mae')\n",
        "\n",
        "#fit the model\n",
        "model_2.fit(tf.expand_dims(X, axis=-1), y, epochs=100)"
      ],
      "metadata": {
        "colab": {
          "base_uri": "https://localhost:8080/"
        },
        "id": "_Cu_KrpwXKPQ",
        "outputId": "073cc8c5-c31c-4a64-82b8-a4590156de6b"
      },
      "execution_count": null,
      "outputs": [
        {
          "output_type": "stream",
          "name": "stdout",
          "text": [
            "Epoch 1/100\n",
            "1/1 [==============================] - 0s 220ms/step - loss: 9.6916 - mae: 9.6916\n",
            "Epoch 2/100\n",
            "1/1 [==============================] - 0s 6ms/step - loss: 9.6213 - mae: 9.6213\n",
            "Epoch 3/100\n",
            "1/1 [==============================] - 0s 8ms/step - loss: 9.5836 - mae: 9.5836\n",
            "Epoch 4/100\n",
            "1/1 [==============================] - 0s 10ms/step - loss: 9.5460 - mae: 9.5460\n",
            "Epoch 5/100\n",
            "1/1 [==============================] - 0s 6ms/step - loss: 9.5083 - mae: 9.5083\n",
            "Epoch 6/100\n",
            "1/1 [==============================] - 0s 6ms/step - loss: 9.4707 - mae: 9.4707\n",
            "Epoch 7/100\n",
            "1/1 [==============================] - 0s 6ms/step - loss: 9.4330 - mae: 9.4330\n",
            "Epoch 8/100\n",
            "1/1 [==============================] - 0s 6ms/step - loss: 9.3954 - mae: 9.3954\n",
            "Epoch 9/100\n",
            "1/1 [==============================] - 0s 7ms/step - loss: 9.3577 - mae: 9.3577\n",
            "Epoch 10/100\n",
            "1/1 [==============================] - 0s 6ms/step - loss: 9.3201 - mae: 9.3201\n",
            "Epoch 11/100\n",
            "1/1 [==============================] - 0s 9ms/step - loss: 9.2824 - mae: 9.2824\n",
            "Epoch 12/100\n",
            "1/1 [==============================] - 0s 7ms/step - loss: 9.2448 - mae: 9.2448\n",
            "Epoch 13/100\n",
            "1/1 [==============================] - 0s 9ms/step - loss: 9.2071 - mae: 9.2071\n",
            "Epoch 14/100\n",
            "1/1 [==============================] - 0s 7ms/step - loss: 9.1694 - mae: 9.1694\n",
            "Epoch 15/100\n",
            "1/1 [==============================] - 0s 7ms/step - loss: 9.1318 - mae: 9.1318\n",
            "Epoch 16/100\n",
            "1/1 [==============================] - 0s 7ms/step - loss: 9.0941 - mae: 9.0941\n",
            "Epoch 17/100\n",
            "1/1 [==============================] - 0s 8ms/step - loss: 9.0565 - mae: 9.0565\n",
            "Epoch 18/100\n",
            "1/1 [==============================] - 0s 6ms/step - loss: 9.0188 - mae: 9.0188\n",
            "Epoch 19/100\n",
            "1/1 [==============================] - 0s 8ms/step - loss: 8.9812 - mae: 8.9812\n",
            "Epoch 20/100\n",
            "1/1 [==============================] - 0s 9ms/step - loss: 8.9435 - mae: 8.9435\n",
            "Epoch 21/100\n",
            "1/1 [==============================] - 0s 6ms/step - loss: 8.9059 - mae: 8.9059\n",
            "Epoch 22/100\n",
            "1/1 [==============================] - 0s 6ms/step - loss: 8.8682 - mae: 8.8682\n",
            "Epoch 23/100\n",
            "1/1 [==============================] - 0s 6ms/step - loss: 8.8311 - mae: 8.8311\n",
            "Epoch 24/100\n",
            "1/1 [==============================] - 0s 6ms/step - loss: 8.8228 - mae: 8.8228\n",
            "Epoch 25/100\n",
            "1/1 [==============================] - 0s 8ms/step - loss: 8.8133 - mae: 8.8133\n",
            "Epoch 26/100\n",
            "1/1 [==============================] - 0s 7ms/step - loss: 8.8033 - mae: 8.8033\n",
            "Epoch 27/100\n",
            "1/1 [==============================] - 0s 7ms/step - loss: 8.7933 - mae: 8.7933\n",
            "Epoch 28/100\n",
            "1/1 [==============================] - 0s 7ms/step - loss: 8.7833 - mae: 8.7833\n",
            "Epoch 29/100\n",
            "1/1 [==============================] - 0s 6ms/step - loss: 8.7733 - mae: 8.7733\n",
            "Epoch 30/100\n",
            "1/1 [==============================] - 0s 6ms/step - loss: 8.7633 - mae: 8.7633\n",
            "Epoch 31/100\n",
            "1/1 [==============================] - 0s 5ms/step - loss: 8.7533 - mae: 8.7533\n",
            "Epoch 32/100\n",
            "1/1 [==============================] - 0s 5ms/step - loss: 8.7433 - mae: 8.7433\n",
            "Epoch 33/100\n",
            "1/1 [==============================] - 0s 7ms/step - loss: 8.7333 - mae: 8.7333\n",
            "Epoch 34/100\n",
            "1/1 [==============================] - 0s 5ms/step - loss: 8.7233 - mae: 8.7233\n",
            "Epoch 35/100\n",
            "1/1 [==============================] - 0s 6ms/step - loss: 8.7133 - mae: 8.7133\n",
            "Epoch 36/100\n",
            "1/1 [==============================] - 0s 6ms/step - loss: 8.7033 - mae: 8.7033\n",
            "Epoch 37/100\n",
            "1/1 [==============================] - 0s 6ms/step - loss: 8.6933 - mae: 8.6933\n",
            "Epoch 38/100\n",
            "1/1 [==============================] - 0s 7ms/step - loss: 8.6840 - mae: 8.6840\n",
            "Epoch 39/100\n",
            "1/1 [==============================] - 0s 6ms/step - loss: 8.6756 - mae: 8.6756\n",
            "Epoch 40/100\n",
            "1/1 [==============================] - 0s 6ms/step - loss: 8.6656 - mae: 8.6656\n",
            "Epoch 41/100\n",
            "1/1 [==============================] - 0s 8ms/step - loss: 8.6556 - mae: 8.6556\n",
            "Epoch 42/100\n",
            "1/1 [==============================] - 0s 10ms/step - loss: 8.6456 - mae: 8.6456\n",
            "Epoch 43/100\n",
            "1/1 [==============================] - 0s 6ms/step - loss: 8.6356 - mae: 8.6356\n",
            "Epoch 44/100\n",
            "1/1 [==============================] - 0s 6ms/step - loss: 8.6256 - mae: 8.6256\n",
            "Epoch 45/100\n",
            "1/1 [==============================] - 0s 5ms/step - loss: 8.6156 - mae: 8.6156\n",
            "Epoch 46/100\n",
            "1/1 [==============================] - 0s 5ms/step - loss: 8.6056 - mae: 8.6056\n",
            "Epoch 47/100\n",
            "1/1 [==============================] - 0s 5ms/step - loss: 8.5956 - mae: 8.5956\n",
            "Epoch 48/100\n",
            "1/1 [==============================] - 0s 5ms/step - loss: 8.5856 - mae: 8.5856\n",
            "Epoch 49/100\n",
            "1/1 [==============================] - 0s 6ms/step - loss: 8.5756 - mae: 8.5756\n",
            "Epoch 50/100\n",
            "1/1 [==============================] - 0s 6ms/step - loss: 8.5656 - mae: 8.5656\n",
            "Epoch 51/100\n",
            "1/1 [==============================] - 0s 5ms/step - loss: 8.5556 - mae: 8.5556\n",
            "Epoch 52/100\n",
            "1/1 [==============================] - 0s 5ms/step - loss: 8.5456 - mae: 8.5456\n",
            "Epoch 53/100\n",
            "1/1 [==============================] - 0s 6ms/step - loss: 8.5375 - mae: 8.5375\n",
            "Epoch 54/100\n",
            "1/1 [==============================] - 0s 5ms/step - loss: 8.5278 - mae: 8.5278\n",
            "Epoch 55/100\n",
            "1/1 [==============================] - 0s 5ms/step - loss: 8.5178 - mae: 8.5178\n",
            "Epoch 56/100\n",
            "1/1 [==============================] - 0s 5ms/step - loss: 8.5078 - mae: 8.5078\n",
            "Epoch 57/100\n",
            "1/1 [==============================] - 0s 5ms/step - loss: 8.4978 - mae: 8.4978\n",
            "Epoch 58/100\n",
            "1/1 [==============================] - 0s 6ms/step - loss: 8.4878 - mae: 8.4878\n",
            "Epoch 59/100\n",
            "1/1 [==============================] - 0s 6ms/step - loss: 8.4778 - mae: 8.4778\n",
            "Epoch 60/100\n",
            "1/1 [==============================] - 0s 5ms/step - loss: 8.4678 - mae: 8.4678\n",
            "Epoch 61/100\n",
            "1/1 [==============================] - 0s 5ms/step - loss: 8.4578 - mae: 8.4578\n",
            "Epoch 62/100\n",
            "1/1 [==============================] - 0s 6ms/step - loss: 8.4478 - mae: 8.4478\n",
            "Epoch 63/100\n",
            "1/1 [==============================] - 0s 7ms/step - loss: 8.4378 - mae: 8.4378\n",
            "Epoch 64/100\n",
            "1/1 [==============================] - 0s 6ms/step - loss: 8.4278 - mae: 8.4278\n",
            "Epoch 65/100\n",
            "1/1 [==============================] - 0s 8ms/step - loss: 8.4178 - mae: 8.4178\n",
            "Epoch 66/100\n",
            "1/1 [==============================] - 0s 6ms/step - loss: 8.4078 - mae: 8.4078\n",
            "Epoch 67/100\n",
            "1/1 [==============================] - 0s 6ms/step - loss: 8.3987 - mae: 8.3987\n",
            "Epoch 68/100\n",
            "1/1 [==============================] - 0s 6ms/step - loss: 8.3900 - mae: 8.3900\n",
            "Epoch 69/100\n",
            "1/1 [==============================] - 0s 6ms/step - loss: 8.3800 - mae: 8.3800\n",
            "Epoch 70/100\n",
            "1/1 [==============================] - 0s 6ms/step - loss: 8.3700 - mae: 8.3700\n",
            "Epoch 71/100\n",
            "1/1 [==============================] - 0s 5ms/step - loss: 8.3600 - mae: 8.3600\n",
            "Epoch 72/100\n",
            "1/1 [==============================] - 0s 5ms/step - loss: 8.3500 - mae: 8.3500\n",
            "Epoch 73/100\n",
            "1/1 [==============================] - 0s 5ms/step - loss: 8.3400 - mae: 8.3400\n",
            "Epoch 74/100\n",
            "1/1 [==============================] - 0s 5ms/step - loss: 8.3300 - mae: 8.3300\n",
            "Epoch 75/100\n",
            "1/1 [==============================] - 0s 5ms/step - loss: 8.3200 - mae: 8.3200\n",
            "Epoch 76/100\n",
            "1/1 [==============================] - 0s 5ms/step - loss: 8.3100 - mae: 8.3100\n",
            "Epoch 77/100\n",
            "1/1 [==============================] - 0s 5ms/step - loss: 8.3000 - mae: 8.3000\n",
            "Epoch 78/100\n",
            "1/1 [==============================] - 0s 5ms/step - loss: 8.2900 - mae: 8.2900\n",
            "Epoch 79/100\n",
            "1/1 [==============================] - 0s 5ms/step - loss: 8.2800 - mae: 8.2800\n",
            "Epoch 80/100\n",
            "1/1 [==============================] - 0s 5ms/step - loss: 8.2700 - mae: 8.2700\n",
            "Epoch 81/100\n",
            "1/1 [==============================] - 0s 5ms/step - loss: 8.2600 - mae: 8.2600\n",
            "Epoch 82/100\n",
            "1/1 [==============================] - 0s 5ms/step - loss: 8.2522 - mae: 8.2522\n",
            "Epoch 83/100\n",
            "1/1 [==============================] - 0s 5ms/step - loss: 8.2422 - mae: 8.2422\n",
            "Epoch 84/100\n",
            "1/1 [==============================] - 0s 5ms/step - loss: 8.2322 - mae: 8.2322\n",
            "Epoch 85/100\n",
            "1/1 [==============================] - 0s 5ms/step - loss: 8.2222 - mae: 8.2222\n",
            "Epoch 86/100\n",
            "1/1 [==============================] - 0s 5ms/step - loss: 8.2122 - mae: 8.2122\n",
            "Epoch 87/100\n",
            "1/1 [==============================] - 0s 6ms/step - loss: 8.2022 - mae: 8.2022\n",
            "Epoch 88/100\n",
            "1/1 [==============================] - 0s 4ms/step - loss: 8.1922 - mae: 8.1922\n",
            "Epoch 89/100\n",
            "1/1 [==============================] - 0s 4ms/step - loss: 8.1822 - mae: 8.1822\n",
            "Epoch 90/100\n",
            "1/1 [==============================] - 0s 6ms/step - loss: 8.1722 - mae: 8.1722\n",
            "Epoch 91/100\n",
            "1/1 [==============================] - 0s 4ms/step - loss: 8.1622 - mae: 8.1622\n",
            "Epoch 92/100\n",
            "1/1 [==============================] - 0s 6ms/step - loss: 8.1522 - mae: 8.1522\n",
            "Epoch 93/100\n",
            "1/1 [==============================] - 0s 5ms/step - loss: 8.1422 - mae: 8.1422\n",
            "Epoch 94/100\n",
            "1/1 [==============================] - 0s 6ms/step - loss: 8.1322 - mae: 8.1322\n",
            "Epoch 95/100\n",
            "1/1 [==============================] - 0s 4ms/step - loss: 8.1222 - mae: 8.1222\n",
            "Epoch 96/100\n",
            "1/1 [==============================] - 0s 7ms/step - loss: 8.1134 - mae: 8.1134\n",
            "Epoch 97/100\n",
            "1/1 [==============================] - 0s 4ms/step - loss: 8.1044 - mae: 8.1044\n",
            "Epoch 98/100\n",
            "1/1 [==============================] - 0s 5ms/step - loss: 8.0944 - mae: 8.0944\n",
            "Epoch 99/100\n",
            "1/1 [==============================] - 0s 7ms/step - loss: 8.0844 - mae: 8.0844\n",
            "Epoch 100/100\n",
            "1/1 [==============================] - 0s 4ms/step - loss: 8.0744 - mae: 8.0744\n"
          ]
        },
        {
          "output_type": "execute_result",
          "data": {
            "text/plain": [
              "<keras.src.callbacks.History at 0x7c87c7f6ab60>"
            ]
          },
          "metadata": {},
          "execution_count": 10
        }
      ]
    },
    {
      "cell_type": "code",
      "source": [
        "X,y"
      ],
      "metadata": {
        "colab": {
          "base_uri": "https://localhost:8080/"
        },
        "id": "eKXGyRFFVxw_",
        "outputId": "3e164702-82ec-43fc-fe7a-d288e275a896"
      },
      "execution_count": null,
      "outputs": [
        {
          "output_type": "execute_result",
          "data": {
            "text/plain": [
              "(<tf.Tensor: shape=(9,), dtype=float64, numpy=array([-8., -6., -4., -2.,  0.,  2.,  4.,  6.,  8.])>,\n",
              " <tf.Tensor: shape=(9,), dtype=float64, numpy=array([ 1.,  3.,  5.,  7.,  9., 11., 13., 15., 17.])>)"
            ]
          },
          "metadata": {},
          "execution_count": 11
        }
      ]
    },
    {
      "cell_type": "code",
      "source": [
        "model_2.predict([10.])"
      ],
      "metadata": {
        "colab": {
          "base_uri": "https://localhost:8080/"
        },
        "id": "9rspFT0LVtys",
        "outputId": "3b3bcaef-734a-4ca1-f895-e4471e8e10a1"
      },
      "execution_count": null,
      "outputs": [
        {
          "output_type": "stream",
          "name": "stdout",
          "text": [
            "1/1 [==============================] - 0s 64ms/step\n"
          ]
        },
        {
          "output_type": "execute_result",
          "data": {
            "text/plain": [
              "array([[0.9664537]], dtype=float32)"
            ]
          },
          "metadata": {},
          "execution_count": 12
        }
      ]
    },
    {
      "cell_type": "markdown",
      "source": [
        "obvio8sly, the model is better and closer to the actual value of 19."
      ],
      "metadata": {
        "id": "gzG2nRYpc4ng"
      }
    },
    {
      "cell_type": "markdown",
      "source": [
        "## Evaluating a model\n",
        "when it comes to evaluating models, the key word is visualize. It's a good ieda to visualizw\n",
        "- the data\n",
        "- the model\n",
        "- the training model\n",
        "- the prediction"
      ],
      "metadata": {
        "id": "OndzItiHdHnl"
      }
    },
    {
      "cell_type": "markdown",
      "source": [
        "Let's create a bigger data set, model and then evaluate it."
      ],
      "metadata": {
        "id": "7_vZtZCAegq1"
      }
    },
    {
      "cell_type": "code",
      "source": [
        "X_1 =np.arange(-100, 100, 4) #from -100 to 100 with a step of 4\n",
        "y_1 = np.arange(-80, 120, 4)\n",
        "len(X_1), len(y_1)"
      ],
      "metadata": {
        "colab": {
          "base_uri": "https://localhost:8080/"
        },
        "id": "qDIzX7Ktct1r",
        "outputId": "073e19af-be5c-4879-ccdc-c9a76028522e"
      },
      "execution_count": null,
      "outputs": [
        {
          "output_type": "execute_result",
          "data": {
            "text/plain": [
              "(50, 50)"
            ]
          },
          "metadata": {},
          "execution_count": 13
        }
      ]
    },
    {
      "cell_type": "code",
      "source": [
        "#split the data into training/test set\n",
        "X_1train = X_1[:40]\n",
        "y_1train = y_1[:40]\n",
        "\n",
        "y_1test = y_1[40:]\n",
        "X_test = X_1[40:]\n",
        "len(X_1train), len(y_1train), len(y_1test)"
      ],
      "metadata": {
        "colab": {
          "base_uri": "https://localhost:8080/"
        },
        "id": "fFASd6hHfY75",
        "outputId": "1f756c54-819d-41f3-c567-13330b8a70d2"
      },
      "execution_count": null,
      "outputs": [
        {
          "output_type": "execute_result",
          "data": {
            "text/plain": [
              "(40, 40, 10)"
            ]
          },
          "metadata": {},
          "execution_count": 14
        }
      ]
    },
    {
      "cell_type": "markdown",
      "source": [
        "##Visualizing the data\n",
        "let's plot our data"
      ],
      "metadata": {
        "id": "jSe_wBbInkaY"
      }
    },
    {
      "cell_type": "code",
      "source": [
        "plt.figure(figsize=(10, 7))\n",
        "#plot training data in blue\n",
        "plt.scatter(X_1train,y_1train, c='b', label='Training data' )\n",
        "#plot test set in green\n",
        "plt.scatter(X_test, y_1test, c='g', label='test data')\n",
        "\n",
        "plt.legend()"
      ],
      "metadata": {
        "colab": {
          "base_uri": "https://localhost:8080/",
          "height": 486
        },
        "id": "T4DG9shIiHxI",
        "outputId": "04cd9c97-e482-4ccc-c6db-a3a5220e4396"
      },
      "execution_count": null,
      "outputs": [
        {
          "output_type": "execute_result",
          "data": {
            "text/plain": [
              "<matplotlib.legend.Legend at 0x7c87d4938280>"
            ]
          },
          "metadata": {},
          "execution_count": 15
        },
        {
          "output_type": "display_data",
          "data": {
            "text/plain": [
              "<Figure size 1000x700 with 1 Axes>"
            ],
            "image/png": "[encoded data removed]"
          },
          "metadata": {}
        }
      ]
    },
    {
      "cell_type": "markdown",
      "source": [
        "Let's builld the model for the new data"
      ],
      "metadata": {
        "id": "sDWFMvTV5OKk"
      }
    },
    {
      "cell_type": "code",
      "source": [
        "#set the random seed\n",
        "tf.random.set_seed(42)\n",
        "\n",
        "#create a model\n",
        "model_2 = tf.keras.Sequential([\n",
        "    tf.keras.layers.Dense(1)\n",
        "])\n",
        "\n",
        "#compile the model\n",
        "model_2.compile(loss=tf.keras.losses.mae,\n",
        "                optimizer=tf.keras.optimizers.SGD(),\n",
        "                metrics=['mae'])\n",
        "#fit the model\n",
        "model_2.fit(tf.expand_dims(X_1train, axis=-1), y_1train, epochs=100)"
      ],
      "metadata": {
        "colab": {
          "base_uri": "https://localhost:8080/"
        },
        "id": "r1tqhzQ82s7h",
        "outputId": "e67c5f91-717a-4e61-edb1-df64fd091437"
      },
      "execution_count": null,
      "outputs": [
        {
          "output_type": "stream",
          "name": "stdout",
          "text": [
            "Epoch 1/100\n",
            "2/2 [==============================] - 0s 9ms/step - loss: 48.4542 - mae: 48.4542\n",
            "Epoch 2/100\n",
            "2/2 [==============================] - 0s 6ms/step - loss: 21.6670 - mae: 21.6670\n",
            "Epoch 3/100\n",
            "2/2 [==============================] - 0s 6ms/step - loss: 21.1772 - mae: 21.1772\n",
            "Epoch 4/100\n",
            "2/2 [==============================] - 0s 5ms/step - loss: 17.8106 - mae: 17.8106\n",
            "Epoch 5/100\n",
            "2/2 [==============================] - 0s 5ms/step - loss: 18.7617 - mae: 18.7617\n",
            "Epoch 6/100\n",
            "2/2 [==============================] - 0s 9ms/step - loss: 16.1807 - mae: 16.1807\n",
            "Epoch 7/100\n",
            "2/2 [==============================] - 0s 6ms/step - loss: 15.1811 - mae: 15.1811\n",
            "Epoch 8/100\n",
            "2/2 [==============================] - 0s 7ms/step - loss: 16.3792 - mae: 16.3792\n",
            "Epoch 9/100\n",
            "2/2 [==============================] - 0s 6ms/step - loss: 23.9632 - mae: 23.9632\n",
            "Epoch 10/100\n",
            "2/2 [==============================] - 0s 8ms/step - loss: 18.5617 - mae: 18.5617\n",
            "Epoch 11/100\n",
            "2/2 [==============================] - 0s 6ms/step - loss: 16.2902 - mae: 16.2902\n",
            "Epoch 12/100\n",
            "2/2 [==============================] - 0s 6ms/step - loss: 15.8345 - mae: 15.8345\n",
            "Epoch 13/100\n",
            "2/2 [==============================] - 0s 5ms/step - loss: 16.4700 - mae: 16.4700\n",
            "Epoch 14/100\n",
            "2/2 [==============================] - 0s 6ms/step - loss: 20.7543 - mae: 20.7543\n",
            "Epoch 15/100\n",
            "2/2 [==============================] - 0s 5ms/step - loss: 15.1185 - mae: 15.1185\n",
            "Epoch 16/100\n",
            "2/2 [==============================] - 0s 7ms/step - loss: 15.8012 - mae: 15.8012\n",
            "Epoch 17/100\n",
            "2/2 [==============================] - 0s 5ms/step - loss: 17.9109 - mae: 17.9109\n",
            "Epoch 18/100\n",
            "2/2 [==============================] - 0s 4ms/step - loss: 17.5057 - mae: 17.5057\n",
            "Epoch 19/100\n",
            "2/2 [==============================] - 0s 5ms/step - loss: 25.2315 - mae: 25.2315\n",
            "Epoch 20/100\n",
            "2/2 [==============================] - 0s 4ms/step - loss: 16.5293 - mae: 16.5293\n",
            "Epoch 21/100\n",
            "2/2 [==============================] - 0s 5ms/step - loss: 17.9134 - mae: 17.9134\n",
            "Epoch 22/100\n",
            "2/2 [==============================] - 0s 6ms/step - loss: 15.0683 - mae: 15.0683\n",
            "Epoch 23/100\n",
            "2/2 [==============================] - 0s 5ms/step - loss: 15.0088 - mae: 15.0088\n",
            "Epoch 24/100\n",
            "2/2 [==============================] - 0s 5ms/step - loss: 20.5805 - mae: 20.5805\n",
            "Epoch 25/100\n",
            "2/2 [==============================] - 0s 5ms/step - loss: 15.3001 - mae: 15.3001\n",
            "Epoch 26/100\n",
            "2/2 [==============================] - 0s 5ms/step - loss: 16.9872 - mae: 16.9872\n",
            "Epoch 27/100\n",
            "2/2 [==============================] - 0s 5ms/step - loss: 16.0724 - mae: 16.0724\n",
            "Epoch 28/100\n",
            "2/2 [==============================] - 0s 4ms/step - loss: 16.8161 - mae: 16.8161\n",
            "Epoch 29/100\n",
            "2/2 [==============================] - 0s 4ms/step - loss: 16.9223 - mae: 16.9223\n",
            "Epoch 30/100\n",
            "2/2 [==============================] - 0s 4ms/step - loss: 24.0100 - mae: 24.0100\n",
            "Epoch 31/100\n",
            "2/2 [==============================] - 0s 4ms/step - loss: 25.7128 - mae: 25.7128\n",
            "Epoch 32/100\n",
            "2/2 [==============================] - 0s 4ms/step - loss: 16.1587 - mae: 16.1587\n",
            "Epoch 33/100\n",
            "2/2 [==============================] - 0s 4ms/step - loss: 14.9628 - mae: 14.9628\n",
            "Epoch 34/100\n",
            "2/2 [==============================] - 0s 6ms/step - loss: 15.6991 - mae: 15.6991\n",
            "Epoch 35/100\n",
            "2/2 [==============================] - 0s 4ms/step - loss: 15.1157 - mae: 15.1157\n",
            "Epoch 36/100\n",
            "2/2 [==============================] - 0s 4ms/step - loss: 24.5961 - mae: 24.5961\n",
            "Epoch 37/100\n",
            "2/2 [==============================] - 0s 4ms/step - loss: 16.4192 - mae: 16.4192\n",
            "Epoch 38/100\n",
            "2/2 [==============================] - 0s 4ms/step - loss: 16.2167 - mae: 16.2167\n",
            "Epoch 39/100\n",
            "2/2 [==============================] - 0s 5ms/step - loss: 18.9305 - mae: 18.9305\n",
            "Epoch 40/100\n",
            "2/2 [==============================] - 0s 5ms/step - loss: 19.3645 - mae: 19.3645\n",
            "Epoch 41/100\n",
            "2/2 [==============================] - 0s 4ms/step - loss: 17.5771 - mae: 17.5771\n",
            "Epoch 42/100\n",
            "2/2 [==============================] - 0s 4ms/step - loss: 16.2892 - mae: 16.2892\n",
            "Epoch 43/100\n",
            "2/2 [==============================] - 0s 4ms/step - loss: 15.5708 - mae: 15.5708\n",
            "Epoch 44/100\n",
            "2/2 [==============================] - 0s 4ms/step - loss: 18.2925 - mae: 18.2925\n",
            "Epoch 45/100\n",
            "2/2 [==============================] - 0s 4ms/step - loss: 19.9731 - mae: 19.9731\n",
            "Epoch 46/100\n",
            "2/2 [==============================] - 0s 5ms/step - loss: 16.3551 - mae: 16.3551\n",
            "Epoch 47/100\n",
            "2/2 [==============================] - 0s 5ms/step - loss: 14.7820 - mae: 14.7820\n",
            "Epoch 48/100\n",
            "2/2 [==============================] - 0s 6ms/step - loss: 17.3090 - mae: 17.3090\n",
            "Epoch 49/100\n",
            "2/2 [==============================] - 0s 5ms/step - loss: 15.8979 - mae: 15.8979\n",
            "Epoch 50/100\n",
            "2/2 [==============================] - 0s 4ms/step - loss: 17.8564 - mae: 17.8564\n",
            "Epoch 51/100\n",
            "2/2 [==============================] - 0s 5ms/step - loss: 17.0576 - mae: 17.0576\n",
            "Epoch 52/100\n",
            "2/2 [==============================] - 0s 4ms/step - loss: 19.4338 - mae: 19.4338\n",
            "Epoch 53/100\n",
            "2/2 [==============================] - 0s 5ms/step - loss: 19.2931 - mae: 19.2931\n",
            "Epoch 54/100\n",
            "2/2 [==============================] - 0s 6ms/step - loss: 27.2586 - mae: 27.2586\n",
            "Epoch 55/100\n",
            "2/2 [==============================] - 0s 5ms/step - loss: 19.2588 - mae: 19.2588\n",
            "Epoch 56/100\n",
            "2/2 [==============================] - 0s 5ms/step - loss: 16.4077 - mae: 16.4077\n",
            "Epoch 57/100\n",
            "2/2 [==============================] - 0s 6ms/step - loss: 14.7878 - mae: 14.7878\n",
            "Epoch 58/100\n",
            "2/2 [==============================] - 0s 5ms/step - loss: 16.6152 - mae: 16.6152\n",
            "Epoch 59/100\n",
            "2/2 [==============================] - 0s 6ms/step - loss: 15.2542 - mae: 15.2542\n",
            "Epoch 60/100\n",
            "2/2 [==============================] - 0s 5ms/step - loss: 17.0563 - mae: 17.0563\n",
            "Epoch 61/100\n",
            "2/2 [==============================] - 0s 5ms/step - loss: 17.4343 - mae: 17.4343\n",
            "Epoch 62/100\n",
            "2/2 [==============================] - 0s 5ms/step - loss: 16.1766 - mae: 16.1766\n",
            "Epoch 63/100\n",
            "2/2 [==============================] - 0s 8ms/step - loss: 16.5691 - mae: 16.5691\n",
            "Epoch 64/100\n",
            "2/2 [==============================] - 0s 7ms/step - loss: 19.2416 - mae: 19.2416\n",
            "Epoch 65/100\n",
            "2/2 [==============================] - 0s 7ms/step - loss: 17.2633 - mae: 17.2633\n",
            "Epoch 66/100\n",
            "2/2 [==============================] - 0s 9ms/step - loss: 19.3751 - mae: 19.3751\n",
            "Epoch 67/100\n",
            "2/2 [==============================] - 0s 5ms/step - loss: 16.1345 - mae: 16.1345\n",
            "Epoch 68/100\n",
            "2/2 [==============================] - 0s 5ms/step - loss: 16.8785 - mae: 16.8785\n",
            "Epoch 69/100\n",
            "2/2 [==============================] - 0s 6ms/step - loss: 20.6338 - mae: 20.6338\n",
            "Epoch 70/100\n",
            "2/2 [==============================] - 0s 5ms/step - loss: 14.5687 - mae: 14.5687\n",
            "Epoch 71/100\n",
            "2/2 [==============================] - 0s 5ms/step - loss: 14.9406 - mae: 14.9406\n",
            "Epoch 72/100\n",
            "2/2 [==============================] - 0s 5ms/step - loss: 14.5022 - mae: 14.5022\n",
            "Epoch 73/100\n",
            "2/2 [==============================] - 0s 5ms/step - loss: 15.6325 - mae: 15.6325\n",
            "Epoch 74/100\n",
            "2/2 [==============================] - 0s 5ms/step - loss: 17.1174 - mae: 17.1174\n",
            "Epoch 75/100\n",
            "2/2 [==============================] - 0s 6ms/step - loss: 15.5803 - mae: 15.5803\n",
            "Epoch 76/100\n",
            "2/2 [==============================] - 0s 5ms/step - loss: 15.6103 - mae: 15.6103\n",
            "Epoch 77/100\n",
            "2/2 [==============================] - 0s 5ms/step - loss: 19.4222 - mae: 19.4222\n",
            "Epoch 78/100\n",
            "2/2 [==============================] - 0s 5ms/step - loss: 16.6880 - mae: 16.6880\n",
            "Epoch 79/100\n",
            "2/2 [==============================] - 0s 5ms/step - loss: 22.7896 - mae: 22.7896\n",
            "Epoch 80/100\n",
            "2/2 [==============================] - 0s 5ms/step - loss: 17.4144 - mae: 17.4144\n",
            "Epoch 81/100\n",
            "2/2 [==============================] - 0s 7ms/step - loss: 17.8307 - mae: 17.8307\n",
            "Epoch 82/100\n",
            "2/2 [==============================] - 0s 5ms/step - loss: 15.5583 - mae: 15.5583\n",
            "Epoch 83/100\n",
            "2/2 [==============================] - 0s 5ms/step - loss: 14.9256 - mae: 14.9256\n",
            "Epoch 84/100\n",
            "2/2 [==============================] - 0s 6ms/step - loss: 16.1273 - mae: 16.1273\n",
            "Epoch 85/100\n",
            "2/2 [==============================] - 0s 5ms/step - loss: 17.2217 - mae: 17.2217\n",
            "Epoch 86/100\n",
            "2/2 [==============================] - 0s 5ms/step - loss: 17.1159 - mae: 17.1159\n",
            "Epoch 87/100\n",
            "2/2 [==============================] - 0s 6ms/step - loss: 20.3448 - mae: 20.3448\n",
            "Epoch 88/100\n",
            "2/2 [==============================] - 0s 10ms/step - loss: 21.6278 - mae: 21.6278\n",
            "Epoch 89/100\n",
            "2/2 [==============================] - 0s 5ms/step - loss: 14.3809 - mae: 14.3809\n",
            "Epoch 90/100\n",
            "2/2 [==============================] - 0s 5ms/step - loss: 15.1659 - mae: 15.1659\n",
            "Epoch 91/100\n",
            "2/2 [==============================] - 0s 6ms/step - loss: 14.8649 - mae: 14.8649\n",
            "Epoch 92/100\n",
            "2/2 [==============================] - 0s 5ms/step - loss: 15.5435 - mae: 15.5435\n",
            "Epoch 93/100\n",
            "2/2 [==============================] - 0s 5ms/step - loss: 15.1968 - mae: 15.1968\n",
            "Epoch 94/100\n",
            "2/2 [==============================] - 0s 7ms/step - loss: 17.4964 - mae: 17.4964\n",
            "Epoch 95/100\n",
            "2/2 [==============================] - 0s 5ms/step - loss: 16.9550 - mae: 16.9550\n",
            "Epoch 96/100\n",
            "2/2 [==============================] - 0s 5ms/step - loss: 14.1547 - mae: 14.1547\n",
            "Epoch 97/100\n",
            "2/2 [==============================] - 0s 5ms/step - loss: 16.4897 - mae: 16.4897\n",
            "Epoch 98/100\n",
            "2/2 [==============================] - 0s 4ms/step - loss: 14.2133 - mae: 14.2133\n",
            "Epoch 99/100\n",
            "2/2 [==============================] - 0s 4ms/step - loss: 15.6642 - mae: 15.6642\n",
            "Epoch 100/100\n",
            "2/2 [==============================] - 0s 4ms/step - loss: 17.0948 - mae: 17.0948\n"
          ]
        },
        {
          "output_type": "execute_result",
          "data": {
            "text/plain": [
              "<keras.src.callbacks.History at 0x7c87d4805150>"
            ]
          },
          "metadata": {},
          "execution_count": 16
        }
      ]
    },
    {
      "cell_type": "code",
      "source": [
        "#check the model summary\n",
        "model_2.summary()"
      ],
      "metadata": {
        "colab": {
          "base_uri": "https://localhost:8080/"
        },
        "id": "pkvUCXfM7FZk",
        "outputId": "5d4d8a8a-aab4-4f71-bb6d-301abf7f7f9e"
      },
      "execution_count": null,
      "outputs": [
        {
          "output_type": "stream",
          "name": "stdout",
          "text": [
            "Model: \"sequential_2\"\n",
            "_________________________________________________________________\n",
            " Layer (type)                Output Shape              Param #   \n",
            "=================================================================\n",
            " dense_2 (Dense)             (None, 1)                 2         \n",
            "                                                                 \n",
            "=================================================================\n",
            "Total params: 2 (8.00 Byte)\n",
            "Trainable params: 2 (8.00 Byte)\n",
            "Non-trainable params: 0 (0.00 Byte)\n",
            "_________________________________________________________________\n"
          ]
        }
      ]
    },
    {
      "cell_type": "markdown",
      "source": [
        "#show a 2D plot of the model"
      ],
      "metadata": {
        "id": "JNPxW-9Xq1cI"
      }
    },
    {
      "cell_type": "code",
      "source": [
        "\n",
        "from tensorflow.keras.utils import plot_model\n",
        "\n",
        "plot_model(model_2, show_shapes=True)"
      ],
      "metadata": {
        "id": "_zhbPORD7MAJ",
        "colab": {
          "base_uri": "https://localhost:8080/",
          "height": 201
        },
        "outputId": "09d46998-81fb-4496-9797-b1ea771c571c"
      },
      "execution_count": null,
      "outputs": [
        {
          "output_type": "execute_result",
          "data": {
            "image/png": "[encoded data removed]",
            "text/plain": [
              "<IPython.core.display.Image object>"
            ]
          },
          "metadata": {},
          "execution_count": 18
        }
      ]
    },
    {
      "cell_type": "markdown",
      "source": [],
      "metadata": {
        "id": "UJf3KzaKyIin"
      }
    },
    {
      "cell_type": "markdown",
      "source": [
        "##Plot predictions vs the ground truth\n",
        "y_test vs y_prwed"
      ],
      "metadata": {
        "id": "A8Hz2YH4u6mX"
      }
    },
    {
      "cell_type": "code",
      "source": [
        "y_preds = model_2.predict(X_test)"
      ],
      "metadata": {
        "colab": {
          "base_uri": "https://localhost:8080/"
        },
        "id": "dt2fZWCRqyzt",
        "outputId": "2cd30eb4-480a-4802-deb5-e09f6bf5b910"
      },
      "execution_count": null,
      "outputs": [
        {
          "output_type": "stream",
          "name": "stdout",
          "text": [
            "1/1 [==============================] - 0s 35ms/step\n"
          ]
        }
      ]
    },
    {
      "cell_type": "code",
      "source": [
        "y_preds"
      ],
      "metadata": {
        "colab": {
          "base_uri": "https://localhost:8080/"
        },
        "id": "bpgWaXTEqzdW",
        "outputId": "f9de0789-cb3c-4f3c-8971-25ac93dc42c5"
      },
      "execution_count": null,
      "outputs": [
        {
          "output_type": "execute_result",
          "data": {
            "text/plain": [
              "array([[58.798832],\n",
              "       [62.625587],\n",
              "       [66.45234 ],\n",
              "       [70.2791  ],\n",
              "       [74.10586 ],\n",
              "       [77.93261 ],\n",
              "       [81.75936 ],\n",
              "       [85.58612 ],\n",
              "       [89.41288 ],\n",
              "       [93.23963 ]], dtype=float32)"
            ]
          },
          "metadata": {},
          "execution_count": 20
        }
      ]
    },
    {
      "cell_type": "markdown",
      "source": [
        "Since i'll be doing more visualization later, i'll create a function to make p[lots for my regression analysis"
      ],
      "metadata": {
        "id": "hvvJ9IRRz46-"
      }
    },
    {
      "cell_type": "code",
      "source": [
        "from matplotlib import colors\n",
        "def plot_function(train_data,\n",
        "                 train_label,\n",
        "                 test_data,\n",
        "                 test_label,\n",
        "                 predictions):\n",
        "\n",
        "  \"\"\"\n",
        "  plots training data, test data against predictions\n",
        "  \"\"\"\n",
        "  plt.figure(figsize=(7,7))\n",
        "  # plot training data in blue\n",
        "  plt.scatter(train_data, train_label, c='blue', label='training data')\n",
        "  #plot test data in green\n",
        "  plt.scatter(test_data, test_label, c='red', label='test data')\n",
        "  #plot predictions\n",
        "  plt.scatter(test_data, predictions, c='green', label='predictions')\n",
        "  plt.legend()"
      ],
      "metadata": {
        "id": "l-G5JvhX0Oyi"
      },
      "execution_count": null,
      "outputs": []
    },
    {
      "cell_type": "code",
      "source": [
        "plot_function(train_data=X_1train,\n",
        "              train_label=y_1train,\n",
        "              test_data=X_test,\n",
        "              test_label=y_1test,\n",
        "              predictions=y_preds)"
      ],
      "metadata": {
        "colab": {
          "base_uri": "https://localhost:8080/",
          "height": 603
        },
        "id": "QZswyhuG1G6p",
        "outputId": "8944693f-e9d7-4ead-ea34-dd8be0279857"
      },
      "execution_count": null,
      "outputs": [
        {
          "output_type": "display_data",
          "data": {
            "text/plain": [
              "<Figure size 700x700 with 1 Axes>"
            ],
            "image/png": "[encoded data removed]"
          },
          "metadata": {}
        }
      ]
    },
    {
      "cell_type": "markdown",
      "source": [
        "the model's predictions aren't all that bad nor great."
      ],
      "metadata": {
        "id": "4qxT1NE_4zGb"
      }
    },
    {
      "cell_type": "markdown",
      "source": [
        "# Evaluating predictions metrics"
      ],
      "metadata": {
        "id": "ewvZjDfn4_Y0"
      }
    },
    {
      "cell_type": "code",
      "source": [
        "# evaluate the model on the test set\n",
        "model_2.evaluate(X_test, y_1test)"
      ],
      "metadata": {
        "colab": {
          "base_uri": "https://localhost:8080/"
        },
        "id": "xOXFCPux5Ja6",
        "outputId": "a03c9ddf-98e2-40cd-df41-fc231801b44b"
      },
      "execution_count": null,
      "outputs": [
        {
          "output_type": "stream",
          "name": "stdout",
          "text": [
            "1/1 [==============================] - 0s 93ms/step - loss: 21.9808 - mae: 21.9808\n"
          ]
        },
        {
          "output_type": "execute_result",
          "data": {
            "text/plain": [
              "[21.98076820373535, 21.98076820373535]"
            ]
          },
          "metadata": {},
          "execution_count": 23
        }
      ]
    },
    {
      "cell_type": "markdown",
      "source": [
        "i used \"mae\" as the loss function and the metric so it returns them both"
      ],
      "metadata": {
        "id": "ywmqg8ql5qa4"
      }
    },
    {
      "cell_type": "code",
      "source": [
        "y_1test.shape, y_preds.shape"
      ],
      "metadata": {
        "colab": {
          "base_uri": "https://localhost:8080/"
        },
        "id": "0l-HhGWg6N1k",
        "outputId": "c5f76352-8e32-49ba-e3bf-fbfef03265dc"
      },
      "execution_count": null,
      "outputs": [
        {
          "output_type": "execute_result",
          "data": {
            "text/plain": [
              "((10,), (10, 1))"
            ]
          },
          "metadata": {},
          "execution_count": 24
        }
      ]
    },
    {
      "cell_type": "code",
      "source": [
        "# to get the mae & mse of the test data vs the prediction\n",
        "tf.metrics.mae(y_1test, y_preds)\n"
      ],
      "metadata": {
        "colab": {
          "base_uri": "https://localhost:8080/"
        },
        "id": "E1-SVRXn6WCp",
        "outputId": "335c487a-19da-4227-eb9c-1a4a222f2746"
      },
      "execution_count": null,
      "outputs": [
        {
          "output_type": "execute_result",
          "data": {
            "text/plain": [
              "<tf.Tensor: shape=(10,), dtype=float32, numpy=\n",
              "array([39.201168 , 35.374413 , 31.547663 , 27.720901 , 23.894142 ,\n",
              "       20.06739  , 16.59251  , 13.848328 , 11.834848 , 10.5520735],\n",
              "      dtype=float32)>"
            ]
          },
          "metadata": {},
          "execution_count": 25
        }
      ]
    },
    {
      "cell_type": "code",
      "source": [
        "tf.metrics.mse(y_1test, y_preds)"
      ],
      "metadata": {
        "colab": {
          "base_uri": "https://localhost:8080/"
        },
        "id": "IfPsagaw7mY9",
        "outputId": "76a637ef-9dff-4b9e-dffb-f28fb79729eb"
      },
      "execution_count": null,
      "outputs": [
        {
          "output_type": "execute_result",
          "data": {
            "text/plain": [
              "<tf.Tensor: shape=(10,), dtype=float32, numpy=\n",
              "array([1668.7317 , 1383.349  , 1127.2549 ,  900.4484 ,  702.93005,\n",
              "        534.7002 ,  395.75833,  286.1044 ,  205.73862,  154.6611 ],\n",
              "      dtype=float32)>"
            ]
          },
          "metadata": {},
          "execution_count": 26
        }
      ]
    },
    {
      "cell_type": "markdown",
      "source": [
        "Now we can improve the model by\n",
        "- adding another dense layer: tf.keras.layers.dense(1), tf.keras,layers,dense(1)\n",
        "- traininfg for longer= epochs=500\n",
        "\n",
        "But ill rather work ona more complex model"
      ],
      "metadata": {
        "id": "Rd9QIRL0ZA3F"
      }
    },
    {
      "cell_type": "markdown",
      "source": [
        "# Saving a mdoel\n",
        "model.save()\n",
        "two ways to save models\n",
        "1. Savedn=mdoel format: WILL SUFFICE MOST OF THE TIME\n",
        "2. HDFS format\n",
        "\n"
      ],
      "metadata": {
        "id": "Rg_UFn42adVC"
      }
    },
    {
      "cell_type": "code",
      "source": [
        "model_2.save(\"best_model_Savemodel_format\")"
      ],
      "metadata": {
        "id": "Bd9DMCOL7ygt"
      },
      "execution_count": null,
      "outputs": []
    },
    {
      "cell_type": "code",
      "source": [
        "!ls best_model_Savemodel_format/"
      ],
      "metadata": {
        "colab": {
          "base_uri": "https://localhost:8080/"
        },
        "id": "4LmaprM4bglA",
        "outputId": "4570e3dd-1a55-4c55-811e-3efbb3c8d00e"
      },
      "execution_count": null,
      "outputs": [
        {
          "output_type": "stream",
          "name": "stdout",
          "text": [
            "assets\tfingerprint.pb\tkeras_metadata.pb  saved_model.pb  variables\n"
          ]
        }
      ]
    },
    {
      "cell_type": "markdown",
      "source": [
        "# Loading a model\n",
        "load_model"
      ],
      "metadata": {
        "id": "jenWdkZQb1M_"
      }
    },
    {
      "cell_type": "code",
      "source": [
        "# load the model save above\n",
        "loaded_saved_model = tf.keras.models.load_model('best_model_Savemodel_format')\n",
        "loaded_saved_model.summary()"
      ],
      "metadata": {
        "colab": {
          "base_uri": "https://localhost:8080/"
        },
        "id": "KQvwRu_PcLXn",
        "outputId": "7e4e00e3-63b5-484c-9d87-3b6f4141c844"
      },
      "execution_count": null,
      "outputs": [
        {
          "output_type": "stream",
          "name": "stdout",
          "text": [
            "Model: \"sequential_2\"\n",
            "_________________________________________________________________\n",
            " Layer (type)                Output Shape              Param #   \n",
            "=================================================================\n",
            " dense_2 (Dense)             (None, 1)                 2         \n",
            "                                                                 \n",
            "=================================================================\n",
            "Total params: 2 (8.00 Byte)\n",
            "Trainable params: 2 (8.00 Byte)\n",
            "Non-trainable params: 0 (0.00 Byte)\n",
            "_________________________________________________________________\n"
          ]
        }
      ]
    },
    {
      "cell_type": "code",
      "source": [
        "#now lets test it out\n",
        "saved_model_pred = loaded_saved_model.predict(X_test)\n",
        "model_2_preds = model_2.predict(X_test)\n",
        "\n",
        "tf.metrics.mae(y_1test, saved_model_pred) == tf.metrics.mae(y_1test, model_2_preds)"
      ],
      "metadata": {
        "colab": {
          "base_uri": "https://localhost:8080/"
        },
        "id": "YELwmQ-Ic640",
        "outputId": "e857683f-93bc-459b-c3aa-4d47458e4b86"
      },
      "execution_count": null,
      "outputs": [
        {
          "output_type": "stream",
          "name": "stdout",
          "text": [
            "1/1 [==============================] - 0s 34ms/step\n",
            "1/1 [==============================] - 0s 14ms/step\n"
          ]
        },
        {
          "output_type": "execute_result",
          "data": {
            "text/plain": [
              "<tf.Tensor: shape=(10,), dtype=bool, numpy=\n",
              "array([ True,  True,  True,  True,  True,  True,  True,  True,  True,\n",
              "        True])>"
            ]
          },
          "metadata": {},
          "execution_count": 30
        }
      ]
    },
    {
      "cell_type": "markdown",
      "source": [
        "so evidently the saved and original models mae are all true. Now its time for a more complex model"
      ],
      "metadata": {
        "id": "ljTIJVw_eieM"
      }
    },
    {
      "cell_type": "markdown",
      "source": [
        "## Nueral network Regression of a medical cost personal data set\n",
        "\n",
        "link: https://github.com/stedy/Machine-Learning-with-R-datasets/blob/master/insurance.csv"
      ],
      "metadata": {
        "id": "L8W8H9u1e0Kh"
      }
    },
    {
      "cell_type": "code",
      "source": [
        "#import required libraries\n",
        "import tensorflow as tf\n",
        "import matplotlib.pyplot as plt\n",
        "import pandas as pd"
      ],
      "metadata": {
        "id": "IA1-IpBIeSkf"
      },
      "execution_count": null,
      "outputs": []
    },
    {
      "cell_type": "code",
      "source": [
        "# read the docu\n",
        "med_data = pd.read_csv(\"https://github.com/stedy/Machine-Learning-with-R-datasets/raw/master/insurance.csv\")"
      ],
      "metadata": {
        "id": "jCl9HDC8kKjM"
      },
      "execution_count": null,
      "outputs": []
    },
    {
      "cell_type": "code",
      "source": [
        "med_data.head()\n",
        "\n",
        "#tensorflow has an inbuilt feature to suggest charts for data visualization"
      ],
      "metadata": {
        "colab": {
          "base_uri": "https://localhost:8080/",
          "height": 206
        },
        "id": "WgJWmbMxyKwI",
        "outputId": "e18c3a6a-c8b9-4ea3-952d-c05d9eb34eac"
      },
      "execution_count": null,
      "outputs": [
        {
          "output_type": "execute_result",
          "data": {
            "text/plain": [
              "   age     sex     bmi  children smoker     region      charges\n",
              "0   19  female  27.900         0    yes  southwest  16884.92400\n",
              "1   18    male  33.770         1     no  southeast   1725.55230\n",
              "2   28    male  33.000         3     no  southeast   4449.46200\n",
              "3   33    male  22.705         0     no  northwest  21984.47061\n",
              "4   32    male  28.880         0     no  northwest   3866.85520"
            ],
            "text/html": [
              "\n",
              "  <div id=\"df-1be729bb-0af2-40d7-b734-8b86aa63e76e\" class=\"colab-df-container\">\n",
              "    <div>\n",
              "<style scoped>\n",
              "    .dataframe tbody tr th:only-of-type {\n",
              "        vertical-align: middle;\n",
              "    }\n",
              "\n",
              "    .dataframe tbody tr th {\n",
              "        vertical-align: top;\n",
              "    }\n",
              "\n",
              "    .dataframe thead th {\n",
              "        text-align: right;\n",
              "    }\n",
              "</style>\n",
              "<table border=\"1\" class=\"dataframe\">\n",
              "  <thead>\n",
              "    <tr style=\"text-align: right;\">\n",
              "      <th></th>\n",
              "      <th>age</th>\n",
              "      <th>sex</th>\n",
              "      <th>bmi</th>\n",
              "      <th>children</th>\n",
              "      <th>smoker</th>\n",
              "      <th>region</th>\n",
              "      <th>charges</th>\n",
              "    </tr>\n",
              "  </thead>\n",
              "  <tbody>\n",
              "    <tr>\n",
              "      <th>0</th>\n",
              "      <td>19</td>\n",
              "      <td>female</td>\n",
              "      <td>27.900</td>\n",
              "      <td>0</td>\n",
              "      <td>yes</td>\n",
              "      <td>southwest</td>\n",
              "      <td>16884.92400</td>\n",
              "    </tr>\n",
              "    <tr>\n",
              "      <th>1</th>\n",
              "      <td>18</td>\n",
              "      <td>male</td>\n",
              "      <td>33.770</td>\n",
              "      <td>1</td>\n",
              "      <td>no</td>\n",
              "      <td>southeast</td>\n",
              "      <td>1725.55230</td>\n",
              "    </tr>\n",
              "    <tr>\n",
              "      <th>2</th>\n",
              "      <td>28</td>\n",
              "      <td>male</td>\n",
              "      <td>33.000</td>\n",
              "      <td>3</td>\n",
              "      <td>no</td>\n",
              "      <td>southeast</td>\n",
              "      <td>4449.46200</td>\n",
              "    </tr>\n",
              "    <tr>\n",
              "      <th>3</th>\n",
              "      <td>33</td>\n",
              "      <td>male</td>\n",
              "      <td>22.705</td>\n",
              "      <td>0</td>\n",
              "      <td>no</td>\n",
              "      <td>northwest</td>\n",
              "      <td>21984.47061</td>\n",
              "    </tr>\n",
              "    <tr>\n",
              "      <th>4</th>\n",
              "      <td>32</td>\n",
              "      <td>male</td>\n",
              "      <td>28.880</td>\n",
              "      <td>0</td>\n",
              "      <td>no</td>\n",
              "      <td>northwest</td>\n",
              "      <td>3866.85520</td>\n",
              "    </tr>\n",
              "  </tbody>\n",
              "</table>\n",
              "</div>\n",
              "    <div class=\"colab-df-buttons\">\n",
              "\n",
              "  <div class=\"colab-df-container\">\n",
              "    <button class=\"colab-df-convert\" onclick=\"convertToInteractive('df-1be729bb-0af2-40d7-b734-8b86aa63e76e')\"\n",
              "            title=\"Convert this dataframe to an interactive table.\"\n",
              "            style=\"display:none;\">\n",
              "\n",
              "  <svg xmlns=\"http://www.w3.org/2000/svg\" height=\"24px\" viewBox=\"0 -960 960 960\">\n",
              "    <path d=\"M120-120v-720h720v720H120Zm60-500h600v-160H180v160Zm220 220h160v-160H400v160Zm0 220h160v-160H400v160ZM180-400h160v-160H180v160Zm440 0h160v-160H620v160ZM180-180h160v-160H180v160Zm440 0h160v-160H620v160Z\"/>\n",
              "  </svg>\n",
              "    </button>\n",
              "\n",
              "  <style>\n",
              "    .colab-df-container {\n",
              "      display:flex;\n",
              "      gap: 12px;\n",
              "    }\n",
              "\n",
              "    .colab-df-convert {\n",
              "      background-color: #E8F0FE;\n",
              "      border: none;\n",
              "      border-radius: 50%;\n",
              "      cursor: pointer;\n",
              "      display: none;\n",
              "      fill: #1967D2;\n",
              "      height: 32px;\n",
              "      padding: 0 0 0 0;\n",
              "      width: 32px;\n",
              "    }\n",
              "\n",
              "    .colab-df-convert:hover {\n",
              "      background-color: #E2EBFA;\n",
              "      box-shadow: 0px 1px 2px rgba(60, 64, 67, 0.3), 0px 1px 3px 1px rgba(60, 64, 67, 0.15);\n",
              "      fill: #174EA6;\n",
              "    }\n",
              "\n",
              "    .colab-df-buttons div {\n",
              "      margin-bottom: 4px;\n",
              "    }\n",
              "\n",
              "    [theme=dark] .colab-df-convert {\n",
              "      background-color: #3B4455;\n",
              "      fill: #D2E3FC;\n",
              "    }\n",
              "\n",
              "    [theme=dark] .colab-df-convert:hover {\n",
              "      background-color: #434B5C;\n",
              "      box-shadow: 0px 1px 3px 1px rgba(0, 0, 0, 0.15);\n",
              "      filter: drop-shadow(0px 1px 2px rgba(0, 0, 0, 0.3));\n",
              "      fill: #FFFFFF;\n",
              "    }\n",
              "  </style>\n",
              "\n",
              "    <script>\n",
              "      const buttonEl =\n",
              "        document.querySelector('#df-1be729bb-0af2-40d7-b734-8b86aa63e76e button.colab-df-convert');\n",
              "      buttonEl.style.display =\n",
              "        google.colab.kernel.accessAllowed ? 'block' : 'none';\n",
              "\n",
              "      async function convertToInteractive(key) {\n",
              "        const element = document.querySelector('#df-1be729bb-0af2-40d7-b734-8b86aa63e76e');\n",
              "        const dataTable =\n",
              "          await google.colab.kernel.invokeFunction('convertToInteractive',\n",
              "                                                    [key], {});\n",
              "        if (!dataTable) return;\n",
              "\n",
              "        const docLinkHtml = 'Like what you see? Visit the ' +\n",
              "          '<a target=\"_blank\" href=https://colab.research.google.com/notebooks/data_table.ipynb>data table notebook</a>'\n",
              "          + ' to learn more about interactive tables.';\n",
              "        element.innerHTML = '';\n",
              "        dataTable['output_type'] = 'display_data';\n",
              "        await google.colab.output.renderOutput(dataTable, element);\n",
              "        const docLink = document.createElement('div');\n",
              "        docLink.innerHTML = docLinkHtml;\n",
              "        element.appendChild(docLink);\n",
              "      }\n",
              "    </script>\n",
              "  </div>\n",
              "\n",
              "\n",
              "<div id=\"df-ac705412-943c-420a-8021-f57aa8e827f6\">\n",
              "  <button class=\"colab-df-quickchart\" onclick=\"quickchart('df-ac705412-943c-420a-8021-f57aa8e827f6')\"\n",
              "            title=\"Suggest charts.\"\n",
              "            style=\"display:none;\">\n",
              "\n",
              "<svg xmlns=\"http://www.w3.org/2000/svg\" height=\"24px\"viewBox=\"0 0 24 24\"\n",
              "     width=\"24px\">\n",
              "    <g>\n",
              "        <path d=\"M19 3H5c-1.1 0-2 .9-2 2v14c0 1.1.9 2 2 2h14c1.1 0 2-.9 2-2V5c0-1.1-.9-2-2-2zM9 17H7v-7h2v7zm4 0h-2V7h2v10zm4 0h-2v-4h2v4z\"/>\n",
              "    </g>\n",
              "</svg>\n",
              "  </button>\n",
              "\n",
              "<style>\n",
              "  .colab-df-quickchart {\n",
              "      --bg-color: #E8F0FE;\n",
              "      --fill-color: #1967D2;\n",
              "      --hover-bg-color: #E2EBFA;\n",
              "      --hover-fill-color: #174EA6;\n",
              "      --disabled-fill-color: #AAA;\n",
              "      --disabled-bg-color: #DDD;\n",
              "  }\n",
              "\n",
              "  [theme=dark] .colab-df-quickchart {\n",
              "      --bg-color: #3B4455;\n",
              "      --fill-color: #D2E3FC;\n",
              "      --hover-bg-color: #434B5C;\n",
              "      --hover-fill-color: #FFFFFF;\n",
              "      --disabled-bg-color: #3B4455;\n",
              "      --disabled-fill-color: #666;\n",
              "  }\n",
              "\n",
              "  .colab-df-quickchart {\n",
              "    background-color: var(--bg-color);\n",
              "    border: none;\n",
              "    border-radius: 50%;\n",
              "    cursor: pointer;\n",
              "    display: none;\n",
              "    fill: var(--fill-color);\n",
              "    height: 32px;\n",
              "    padding: 0;\n",
              "    width: 32px;\n",
              "  }\n",
              "\n",
              "  .colab-df-quickchart:hover {\n",
              "    background-color: var(--hover-bg-color);\n",
              "    box-shadow: 0 1px 2px rgba(60, 64, 67, 0.3), 0 1px 3px 1px rgba(60, 64, 67, 0.15);\n",
              "    fill: var(--button-hover-fill-color);\n",
              "  }\n",
              "\n",
              "  .colab-df-quickchart-complete:disabled,\n",
              "  .colab-df-quickchart-complete:disabled:hover {\n",
              "    background-color: var(--disabled-bg-color);\n",
              "    fill: var(--disabled-fill-color);\n",
              "    box-shadow: none;\n",
              "  }\n",
              "\n",
              "  .colab-df-spinner {\n",
              "    border: 2px solid var(--fill-color);\n",
              "    border-color: transparent;\n",
              "    border-bottom-color: var(--fill-color);\n",
              "    animation:\n",
              "      spin 1s steps(1) infinite;\n",
              "  }\n",
              "\n",
              "  @keyframes spin {\n",
              "    0% {\n",
              "      border-color: transparent;\n",
              "      border-bottom-color: var(--fill-color);\n",
              "      border-left-color: var(--fill-color);\n",
              "    }\n",
              "    20% {\n",
              "      border-color: transparent;\n",
              "      border-left-color: var(--fill-color);\n",
              "      border-top-color: var(--fill-color);\n",
              "    }\n",
              "    30% {\n",
              "      border-color: transparent;\n",
              "      border-left-color: var(--fill-color);\n",
              "      border-top-color: var(--fill-color);\n",
              "      border-right-color: var(--fill-color);\n",
              "    }\n",
              "    40% {\n",
              "      border-color: transparent;\n",
              "      border-right-color: var(--fill-color);\n",
              "      border-top-color: var(--fill-color);\n",
              "    }\n",
              "    60% {\n",
              "      border-color: transparent;\n",
              "      border-right-color: var(--fill-color);\n",
              "    }\n",
              "    80% {\n",
              "      border-color: transparent;\n",
              "      border-right-color: var(--fill-color);\n",
              "      border-bottom-color: var(--fill-color);\n",
              "    }\n",
              "    90% {\n",
              "      border-color: transparent;\n",
              "      border-bottom-color: var(--fill-color);\n",
              "    }\n",
              "  }\n",
              "</style>\n",
              "\n",
              "  <script>\n",
              "    async function quickchart(key) {\n",
              "      const quickchartButtonEl =\n",
              "        document.querySelector('#' + key + ' button');\n",
              "      quickchartButtonEl.disabled = true;  // To prevent multiple clicks.\n",
              "      quickchartButtonEl.classList.add('colab-df-spinner');\n",
              "      try {\n",
              "        const charts = await google.colab.kernel.invokeFunction(\n",
              "            'suggestCharts', [key], {});\n",
              "      } catch (error) {\n",
              "        console.error('Error during call to suggestCharts:', error);\n",
              "      }\n",
              "      quickchartButtonEl.classList.remove('colab-df-spinner');\n",
              "      quickchartButtonEl.classList.add('colab-df-quickchart-complete');\n",
              "    }\n",
              "    (() => {\n",
              "      let quickchartButtonEl =\n",
              "        document.querySelector('#df-ac705412-943c-420a-8021-f57aa8e827f6 button');\n",
              "      quickchartButtonEl.style.display =\n",
              "        google.colab.kernel.accessAllowed ? 'block' : 'none';\n",
              "    })();\n",
              "  </script>\n",
              "</div>\n",
              "    </div>\n",
              "  </div>\n"
            ]
          },
          "metadata": {},
          "execution_count": 33
        }
      ]
    },
    {
      "cell_type": "markdown",
      "source": [
        "## Data Preprocessing\n",
        "turning non nuimerical data into numbers\n",
        "sex, smokers, region\n",
        "\n",
        ">> get.dummies() method"
      ],
      "metadata": {
        "id": "s3ph_HPc6VLD"
      }
    },
    {
      "cell_type": "code",
      "source": [
        "med_data_onehotencoded = pd.get_dummies(med_data)\n",
        "med_data_onehotencoded.head()"
      ],
      "metadata": {
        "colab": {
          "base_uri": "https://localhost:8080/",
          "height": 226
        },
        "id": "5IhtZLIr4nIE",
        "outputId": "d6e63ea4-b0ac-451f-a35d-3f87356152b4"
      },
      "execution_count": null,
      "outputs": [
        {
          "output_type": "execute_result",
          "data": {
            "text/plain": [
              "   age     bmi  children      charges  sex_female  sex_male  smoker_no  \\\n",
              "0   19  27.900         0  16884.92400           1         0          0   \n",
              "1   18  33.770         1   1725.55230           0         1          1   \n",
              "2   28  33.000         3   4449.46200           0         1          1   \n",
              "3   33  22.705         0  21984.47061           0         1          1   \n",
              "4   32  28.880         0   3866.85520           0         1          1   \n",
              "\n",
              "   smoker_yes  region_northeast  region_northwest  region_southeast  \\\n",
              "0           1                 0                 0                 0   \n",
              "1           0                 0                 0                 1   \n",
              "2           0                 0                 0                 1   \n",
              "3           0                 0                 1                 0   \n",
              "4           0                 0                 1                 0   \n",
              "\n",
              "   region_southwest  \n",
              "0                 1  \n",
              "1                 0  \n",
              "2                 0  \n",
              "3                 0  \n",
              "4                 0  "
            ],
            "text/html": [
              "\n",
              "  <div id=\"df-1cd79bee-f8dc-4e6c-99b0-9b848d95efc8\" class=\"colab-df-container\">\n",
              "    <div>\n",
              "<style scoped>\n",
              "    .dataframe tbody tr th:only-of-type {\n",
              "        vertical-align: middle;\n",
              "    }\n",
              "\n",
              "    .dataframe tbody tr th {\n",
              "        vertical-align: top;\n",
              "    }\n",
              "\n",
              "    .dataframe thead th {\n",
              "        text-align: right;\n",
              "    }\n",
              "</style>\n",
              "<table border=\"1\" class=\"dataframe\">\n",
              "  <thead>\n",
              "    <tr style=\"text-align: right;\">\n",
              "      <th></th>\n",
              "      <th>age</th>\n",
              "      <th>bmi</th>\n",
              "      <th>children</th>\n",
              "      <th>charges</th>\n",
              "      <th>sex_female</th>\n",
              "      <th>sex_male</th>\n",
              "      <th>smoker_no</th>\n",
              "      <th>smoker_yes</th>\n",
              "      <th>region_northeast</th>\n",
              "      <th>region_northwest</th>\n",
              "      <th>region_southeast</th>\n",
              "      <th>region_southwest</th>\n",
              "    </tr>\n",
              "  </thead>\n",
              "  <tbody>\n",
              "    <tr>\n",
              "      <th>0</th>\n",
              "      <td>19</td>\n",
              "      <td>27.900</td>\n",
              "      <td>0</td>\n",
              "      <td>16884.92400</td>\n",
              "      <td>1</td>\n",
              "      <td>0</td>\n",
              "      <td>0</td>\n",
              "      <td>1</td>\n",
              "      <td>0</td>\n",
              "      <td>0</td>\n",
              "      <td>0</td>\n",
              "      <td>1</td>\n",
              "    </tr>\n",
              "    <tr>\n",
              "      <th>1</th>\n",
              "      <td>18</td>\n",
              "      <td>33.770</td>\n",
              "      <td>1</td>\n",
              "      <td>1725.55230</td>\n",
              "      <td>0</td>\n",
              "      <td>1</td>\n",
              "      <td>1</td>\n",
              "      <td>0</td>\n",
              "      <td>0</td>\n",
              "      <td>0</td>\n",
              "      <td>1</td>\n",
              "      <td>0</td>\n",
              "    </tr>\n",
              "    <tr>\n",
              "      <th>2</th>\n",
              "      <td>28</td>\n",
              "      <td>33.000</td>\n",
              "      <td>3</td>\n",
              "      <td>4449.46200</td>\n",
              "      <td>0</td>\n",
              "      <td>1</td>\n",
              "      <td>1</td>\n",
              "      <td>0</td>\n",
              "      <td>0</td>\n",
              "      <td>0</td>\n",
              "      <td>1</td>\n",
              "      <td>0</td>\n",
              "    </tr>\n",
              "    <tr>\n",
              "      <th>3</th>\n",
              "      <td>33</td>\n",
              "      <td>22.705</td>\n",
              "      <td>0</td>\n",
              "      <td>21984.47061</td>\n",
              "      <td>0</td>\n",
              "      <td>1</td>\n",
              "      <td>1</td>\n",
              "      <td>0</td>\n",
              "      <td>0</td>\n",
              "      <td>1</td>\n",
              "      <td>0</td>\n",
              "      <td>0</td>\n",
              "    </tr>\n",
              "    <tr>\n",
              "      <th>4</th>\n",
              "      <td>32</td>\n",
              "      <td>28.880</td>\n",
              "      <td>0</td>\n",
              "      <td>3866.85520</td>\n",
              "      <td>0</td>\n",
              "      <td>1</td>\n",
              "      <td>1</td>\n",
              "      <td>0</td>\n",
              "      <td>0</td>\n",
              "      <td>1</td>\n",
              "      <td>0</td>\n",
              "      <td>0</td>\n",
              "    </tr>\n",
              "  </tbody>\n",
              "</table>\n",
              "</div>\n",
              "    <div class=\"colab-df-buttons\">\n",
              "\n",
              "  <div class=\"colab-df-container\">\n",
              "    <button class=\"colab-df-convert\" onclick=\"convertToInteractive('df-1cd79bee-f8dc-4e6c-99b0-9b848d95efc8')\"\n",
              "            title=\"Convert this dataframe to an interactive table.\"\n",
              "            style=\"display:none;\">\n",
              "\n",
              "  <svg xmlns=\"http://www.w3.org/2000/svg\" height=\"24px\" viewBox=\"0 -960 960 960\">\n",
              "    <path d=\"M120-120v-720h720v720H120Zm60-500h600v-160H180v160Zm220 220h160v-160H400v160Zm0 220h160v-160H400v160ZM180-400h160v-160H180v160Zm440 0h160v-160H620v160ZM180-180h160v-160H180v160Zm440 0h160v-160H620v160Z\"/>\n",
              "  </svg>\n",
              "    </button>\n",
              "\n",
              "  <style>\n",
              "    .colab-df-container {\n",
              "      display:flex;\n",
              "      gap: 12px;\n",
              "    }\n",
              "\n",
              "    .colab-df-convert {\n",
              "      background-color: #E8F0FE;\n",
              "      border: none;\n",
              "      border-radius: 50%;\n",
              "      cursor: pointer;\n",
              "      display: none;\n",
              "      fill: #1967D2;\n",
              "      height: 32px;\n",
              "      padding: 0 0 0 0;\n",
              "      width: 32px;\n",
              "    }\n",
              "\n",
              "    .colab-df-convert:hover {\n",
              "      background-color: #E2EBFA;\n",
              "      box-shadow: 0px 1px 2px rgba(60, 64, 67, 0.3), 0px 1px 3px 1px rgba(60, 64, 67, 0.15);\n",
              "      fill: #174EA6;\n",
              "    }\n",
              "\n",
              "    .colab-df-buttons div {\n",
              "      margin-bottom: 4px;\n",
              "    }\n",
              "\n",
              "    [theme=dark] .colab-df-convert {\n",
              "      background-color: #3B4455;\n",
              "      fill: #D2E3FC;\n",
              "    }\n",
              "\n",
              "    [theme=dark] .colab-df-convert:hover {\n",
              "      background-color: #434B5C;\n",
              "      box-shadow: 0px 1px 3px 1px rgba(0, 0, 0, 0.15);\n",
              "      filter: drop-shadow(0px 1px 2px rgba(0, 0, 0, 0.3));\n",
              "      fill: #FFFFFF;\n",
              "    }\n",
              "  </style>\n",
              "\n",
              "    <script>\n",
              "      const buttonEl =\n",
              "        document.querySelector('#df-1cd79bee-f8dc-4e6c-99b0-9b848d95efc8 button.colab-df-convert');\n",
              "      buttonEl.style.display =\n",
              "        google.colab.kernel.accessAllowed ? 'block' : 'none';\n",
              "\n",
              "      async function convertToInteractive(key) {\n",
              "        const element = document.querySelector('#df-1cd79bee-f8dc-4e6c-99b0-9b848d95efc8');\n",
              "        const dataTable =\n",
              "          await google.colab.kernel.invokeFunction('convertToInteractive',\n",
              "                                                    [key], {});\n",
              "        if (!dataTable) return;\n",
              "\n",
              "        const docLinkHtml = 'Like what you see? Visit the ' +\n",
              "          '<a target=\"_blank\" href=https://colab.research.google.com/notebooks/data_table.ipynb>data table notebook</a>'\n",
              "          + ' to learn more about interactive tables.';\n",
              "        element.innerHTML = '';\n",
              "        dataTable['output_type'] = 'display_data';\n",
              "        await google.colab.output.renderOutput(dataTable, element);\n",
              "        const docLink = document.createElement('div');\n",
              "        docLink.innerHTML = docLinkHtml;\n",
              "        element.appendChild(docLink);\n",
              "      }\n",
              "    </script>\n",
              "  </div>\n",
              "\n",
              "\n",
              "<div id=\"df-a759d85c-8fde-4d4a-a3e0-229c38ec4b89\">\n",
              "  <button class=\"colab-df-quickchart\" onclick=\"quickchart('df-a759d85c-8fde-4d4a-a3e0-229c38ec4b89')\"\n",
              "            title=\"Suggest charts.\"\n",
              "            style=\"display:none;\">\n",
              "\n",
              "<svg xmlns=\"http://www.w3.org/2000/svg\" height=\"24px\"viewBox=\"0 0 24 24\"\n",
              "     width=\"24px\">\n",
              "    <g>\n",
              "        <path d=\"M19 3H5c-1.1 0-2 .9-2 2v14c0 1.1.9 2 2 2h14c1.1 0 2-.9 2-2V5c0-1.1-.9-2-2-2zM9 17H7v-7h2v7zm4 0h-2V7h2v10zm4 0h-2v-4h2v4z\"/>\n",
              "    </g>\n",
              "</svg>\n",
              "  </button>\n",
              "\n",
              "<style>\n",
              "  .colab-df-quickchart {\n",
              "      --bg-color: #E8F0FE;\n",
              "      --fill-color: #1967D2;\n",
              "      --hover-bg-color: #E2EBFA;\n",
              "      --hover-fill-color: #174EA6;\n",
              "      --disabled-fill-color: #AAA;\n",
              "      --disabled-bg-color: #DDD;\n",
              "  }\n",
              "\n",
              "  [theme=dark] .colab-df-quickchart {\n",
              "      --bg-color: #3B4455;\n",
              "      --fill-color: #D2E3FC;\n",
              "      --hover-bg-color: #434B5C;\n",
              "      --hover-fill-color: #FFFFFF;\n",
              "      --disabled-bg-color: #3B4455;\n",
              "      --disabled-fill-color: #666;\n",
              "  }\n",
              "\n",
              "  .colab-df-quickchart {\n",
              "    background-color: var(--bg-color);\n",
              "    border: none;\n",
              "    border-radius: 50%;\n",
              "    cursor: pointer;\n",
              "    display: none;\n",
              "    fill: var(--fill-color);\n",
              "    height: 32px;\n",
              "    padding: 0;\n",
              "    width: 32px;\n",
              "  }\n",
              "\n",
              "  .colab-df-quickchart:hover {\n",
              "    background-color: var(--hover-bg-color);\n",
              "    box-shadow: 0 1px 2px rgba(60, 64, 67, 0.3), 0 1px 3px 1px rgba(60, 64, 67, 0.15);\n",
              "    fill: var(--button-hover-fill-color);\n",
              "  }\n",
              "\n",
              "  .colab-df-quickchart-complete:disabled,\n",
              "  .colab-df-quickchart-complete:disabled:hover {\n",
              "    background-color: var(--disabled-bg-color);\n",
              "    fill: var(--disabled-fill-color);\n",
              "    box-shadow: none;\n",
              "  }\n",
              "\n",
              "  .colab-df-spinner {\n",
              "    border: 2px solid var(--fill-color);\n",
              "    border-color: transparent;\n",
              "    border-bottom-color: var(--fill-color);\n",
              "    animation:\n",
              "      spin 1s steps(1) infinite;\n",
              "  }\n",
              "\n",
              "  @keyframes spin {\n",
              "    0% {\n",
              "      border-color: transparent;\n",
              "      border-bottom-color: var(--fill-color);\n",
              "      border-left-color: var(--fill-color);\n",
              "    }\n",
              "    20% {\n",
              "      border-color: transparent;\n",
              "      border-left-color: var(--fill-color);\n",
              "      border-top-color: var(--fill-color);\n",
              "    }\n",
              "    30% {\n",
              "      border-color: transparent;\n",
              "      border-left-color: var(--fill-color);\n",
              "      border-top-color: var(--fill-color);\n",
              "      border-right-color: var(--fill-color);\n",
              "    }\n",
              "    40% {\n",
              "      border-color: transparent;\n",
              "      border-right-color: var(--fill-color);\n",
              "      border-top-color: var(--fill-color);\n",
              "    }\n",
              "    60% {\n",
              "      border-color: transparent;\n",
              "      border-right-color: var(--fill-color);\n",
              "    }\n",
              "    80% {\n",
              "      border-color: transparent;\n",
              "      border-right-color: var(--fill-color);\n",
              "      border-bottom-color: var(--fill-color);\n",
              "    }\n",
              "    90% {\n",
              "      border-color: transparent;\n",
              "      border-bottom-color: var(--fill-color);\n",
              "    }\n",
              "  }\n",
              "</style>\n",
              "\n",
              "  <script>\n",
              "    async function quickchart(key) {\n",
              "      const quickchartButtonEl =\n",
              "        document.querySelector('#' + key + ' button');\n",
              "      quickchartButtonEl.disabled = true;  // To prevent multiple clicks.\n",
              "      quickchartButtonEl.classList.add('colab-df-spinner');\n",
              "      try {\n",
              "        const charts = await google.colab.kernel.invokeFunction(\n",
              "            'suggestCharts', [key], {});\n",
              "      } catch (error) {\n",
              "        console.error('Error during call to suggestCharts:', error);\n",
              "      }\n",
              "      quickchartButtonEl.classList.remove('colab-df-spinner');\n",
              "      quickchartButtonEl.classList.add('colab-df-quickchart-complete');\n",
              "    }\n",
              "    (() => {\n",
              "      let quickchartButtonEl =\n",
              "        document.querySelector('#df-a759d85c-8fde-4d4a-a3e0-229c38ec4b89 button');\n",
              "      quickchartButtonEl.style.display =\n",
              "        google.colab.kernel.accessAllowed ? 'block' : 'none';\n",
              "    })();\n",
              "  </script>\n",
              "</div>\n",
              "    </div>\n",
              "  </div>\n"
            ]
          },
          "metadata": {},
          "execution_count": 34
        }
      ]
    },
    {
      "cell_type": "code",
      "source": [
        "med_data_onehotencoded.describe()"
      ],
      "metadata": {
        "colab": {
          "base_uri": "https://localhost:8080/",
          "height": 320
        },
        "id": "mQGM3nYG-Ik2",
        "outputId": "1a6df60a-66b1-4aa5-b857-f6be62d73f44"
      },
      "execution_count": null,
      "outputs": [
        {
          "output_type": "execute_result",
          "data": {
            "text/plain": [
              "               age          bmi     children       charges   sex_female  \\\n",
              "count  1338.000000  1338.000000  1338.000000   1338.000000  1338.000000   \n",
              "mean     39.207025    30.663397     1.094918  13270.422265     0.494768   \n",
              "std      14.049960     6.098187     1.205493  12110.011237     0.500160   \n",
              "min      18.000000    15.960000     0.000000   1121.873900     0.000000   \n",
              "25%      27.000000    26.296250     0.000000   4740.287150     0.000000   \n",
              "50%      39.000000    30.400000     1.000000   9382.033000     0.000000   \n",
              "75%      51.000000    34.693750     2.000000  16639.912515     1.000000   \n",
              "max      64.000000    53.130000     5.000000  63770.428010     1.000000   \n",
              "\n",
              "          sex_male    smoker_no   smoker_yes  region_northeast  \\\n",
              "count  1338.000000  1338.000000  1338.000000       1338.000000   \n",
              "mean      0.505232     0.795217     0.204783          0.242152   \n",
              "std       0.500160     0.403694     0.403694          0.428546   \n",
              "min       0.000000     0.000000     0.000000          0.000000   \n",
              "25%       0.000000     1.000000     0.000000          0.000000   \n",
              "50%       1.000000     1.000000     0.000000          0.000000   \n",
              "75%       1.000000     1.000000     0.000000          0.000000   \n",
              "max       1.000000     1.000000     1.000000          1.000000   \n",
              "\n",
              "       region_northwest  region_southeast  region_southwest  \n",
              "count       1338.000000       1338.000000       1338.000000  \n",
              "mean           0.242900          0.272048          0.242900  \n",
              "std            0.428995          0.445181          0.428995  \n",
              "min            0.000000          0.000000          0.000000  \n",
              "25%            0.000000          0.000000          0.000000  \n",
              "50%            0.000000          0.000000          0.000000  \n",
              "75%            0.000000          1.000000          0.000000  \n",
              "max            1.000000          1.000000          1.000000  "
            ],
            "text/html": [
              "\n",
              "  <div id=\"df-c8cc68fb-3417-45f3-bfc6-372e3fb5e14a\" class=\"colab-df-container\">\n",
              "    <div>\n",
              "<style scoped>\n",
              "    .dataframe tbody tr th:only-of-type {\n",
              "        vertical-align: middle;\n",
              "    }\n",
              "\n",
              "    .dataframe tbody tr th {\n",
              "        vertical-align: top;\n",
              "    }\n",
              "\n",
              "    .dataframe thead th {\n",
              "        text-align: right;\n",
              "    }\n",
              "</style>\n",
              "<table border=\"1\" class=\"dataframe\">\n",
              "  <thead>\n",
              "    <tr style=\"text-align: right;\">\n",
              "      <th></th>\n",
              "      <th>age</th>\n",
              "      <th>bmi</th>\n",
              "      <th>children</th>\n",
              "      <th>charges</th>\n",
              "      <th>sex_female</th>\n",
              "      <th>sex_male</th>\n",
              "      <th>smoker_no</th>\n",
              "      <th>smoker_yes</th>\n",
              "      <th>region_northeast</th>\n",
              "      <th>region_northwest</th>\n",
              "      <th>region_southeast</th>\n",
              "      <th>region_southwest</th>\n",
              "    </tr>\n",
              "  </thead>\n",
              "  <tbody>\n",
              "    <tr>\n",
              "      <th>count</th>\n",
              "      <td>1338.000000</td>\n",
              "      <td>1338.000000</td>\n",
              "      <td>1338.000000</td>\n",
              "      <td>1338.000000</td>\n",
              "      <td>1338.000000</td>\n",
              "      <td>1338.000000</td>\n",
              "      <td>1338.000000</td>\n",
              "      <td>1338.000000</td>\n",
              "      <td>1338.000000</td>\n",
              "      <td>1338.000000</td>\n",
              "      <td>1338.000000</td>\n",
              "      <td>1338.000000</td>\n",
              "    </tr>\n",
              "    <tr>\n",
              "      <th>mean</th>\n",
              "      <td>39.207025</td>\n",
              "      <td>30.663397</td>\n",
              "      <td>1.094918</td>\n",
              "      <td>13270.422265</td>\n",
              "      <td>0.494768</td>\n",
              "      <td>0.505232</td>\n",
              "      <td>0.795217</td>\n",
              "      <td>0.204783</td>\n",
              "      <td>0.242152</td>\n",
              "      <td>0.242900</td>\n",
              "      <td>0.272048</td>\n",
              "      <td>0.242900</td>\n",
              "    </tr>\n",
              "    <tr>\n",
              "      <th>std</th>\n",
              "      <td>14.049960</td>\n",
              "      <td>6.098187</td>\n",
              "      <td>1.205493</td>\n",
              "      <td>12110.011237</td>\n",
              "      <td>0.500160</td>\n",
              "      <td>0.500160</td>\n",
              "      <td>0.403694</td>\n",
              "      <td>0.403694</td>\n",
              "      <td>0.428546</td>\n",
              "      <td>0.428995</td>\n",
              "      <td>0.445181</td>\n",
              "      <td>0.428995</td>\n",
              "    </tr>\n",
              "    <tr>\n",
              "      <th>min</th>\n",
              "      <td>18.000000</td>\n",
              "      <td>15.960000</td>\n",
              "      <td>0.000000</td>\n",
              "      <td>1121.873900</td>\n",
              "      <td>0.000000</td>\n",
              "      <td>0.000000</td>\n",
              "      <td>0.000000</td>\n",
              "      <td>0.000000</td>\n",
              "      <td>0.000000</td>\n",
              "      <td>0.000000</td>\n",
              "      <td>0.000000</td>\n",
              "      <td>0.000000</td>\n",
              "    </tr>\n",
              "    <tr>\n",
              "      <th>25%</th>\n",
              "      <td>27.000000</td>\n",
              "      <td>26.296250</td>\n",
              "      <td>0.000000</td>\n",
              "      <td>4740.287150</td>\n",
              "      <td>0.000000</td>\n",
              "      <td>0.000000</td>\n",
              "      <td>1.000000</td>\n",
              "      <td>0.000000</td>\n",
              "      <td>0.000000</td>\n",
              "      <td>0.000000</td>\n",
              "      <td>0.000000</td>\n",
              "      <td>0.000000</td>\n",
              "    </tr>\n",
              "    <tr>\n",
              "      <th>50%</th>\n",
              "      <td>39.000000</td>\n",
              "      <td>30.400000</td>\n",
              "      <td>1.000000</td>\n",
              "      <td>9382.033000</td>\n",
              "      <td>0.000000</td>\n",
              "      <td>1.000000</td>\n",
              "      <td>1.000000</td>\n",
              "      <td>0.000000</td>\n",
              "      <td>0.000000</td>\n",
              "      <td>0.000000</td>\n",
              "      <td>0.000000</td>\n",
              "      <td>0.000000</td>\n",
              "    </tr>\n",
              "    <tr>\n",
              "      <th>75%</th>\n",
              "      <td>51.000000</td>\n",
              "      <td>34.693750</td>\n",
              "      <td>2.000000</td>\n",
              "      <td>16639.912515</td>\n",
              "      <td>1.000000</td>\n",
              "      <td>1.000000</td>\n",
              "      <td>1.000000</td>\n",
              "      <td>0.000000</td>\n",
              "      <td>0.000000</td>\n",
              "      <td>0.000000</td>\n",
              "      <td>1.000000</td>\n",
              "      <td>0.000000</td>\n",
              "    </tr>\n",
              "    <tr>\n",
              "      <th>max</th>\n",
              "      <td>64.000000</td>\n",
              "      <td>53.130000</td>\n",
              "      <td>5.000000</td>\n",
              "      <td>63770.428010</td>\n",
              "      <td>1.000000</td>\n",
              "      <td>1.000000</td>\n",
              "      <td>1.000000</td>\n",
              "      <td>1.000000</td>\n",
              "      <td>1.000000</td>\n",
              "      <td>1.000000</td>\n",
              "      <td>1.000000</td>\n",
              "      <td>1.000000</td>\n",
              "    </tr>\n",
              "  </tbody>\n",
              "</table>\n",
              "</div>\n",
              "    <div class=\"colab-df-buttons\">\n",
              "\n",
              "  <div class=\"colab-df-container\">\n",
              "    <button class=\"colab-df-convert\" onclick=\"convertToInteractive('df-c8cc68fb-3417-45f3-bfc6-372e3fb5e14a')\"\n",
              "            title=\"Convert this dataframe to an interactive table.\"\n",
              "            style=\"display:none;\">\n",
              "\n",
              "  <svg xmlns=\"http://www.w3.org/2000/svg\" height=\"24px\" viewBox=\"0 -960 960 960\">\n",
              "    <path d=\"M120-120v-720h720v720H120Zm60-500h600v-160H180v160Zm220 220h160v-160H400v160Zm0 220h160v-160H400v160ZM180-400h160v-160H180v160Zm440 0h160v-160H620v160ZM180-180h160v-160H180v160Zm440 0h160v-160H620v160Z\"/>\n",
              "  </svg>\n",
              "    </button>\n",
              "\n",
              "  <style>\n",
              "    .colab-df-container {\n",
              "      display:flex;\n",
              "      gap: 12px;\n",
              "    }\n",
              "\n",
              "    .colab-df-convert {\n",
              "      background-color: #E8F0FE;\n",
              "      border: none;\n",
              "      border-radius: 50%;\n",
              "      cursor: pointer;\n",
              "      display: none;\n",
              "      fill: #1967D2;\n",
              "      height: 32px;\n",
              "      padding: 0 0 0 0;\n",
              "      width: 32px;\n",
              "    }\n",
              "\n",
              "    .colab-df-convert:hover {\n",
              "      background-color: #E2EBFA;\n",
              "      box-shadow: 0px 1px 2px rgba(60, 64, 67, 0.3), 0px 1px 3px 1px rgba(60, 64, 67, 0.15);\n",
              "      fill: #174EA6;\n",
              "    }\n",
              "\n",
              "    .colab-df-buttons div {\n",
              "      margin-bottom: 4px;\n",
              "    }\n",
              "\n",
              "    [theme=dark] .colab-df-convert {\n",
              "      background-color: #3B4455;\n",
              "      fill: #D2E3FC;\n",
              "    }\n",
              "\n",
              "    [theme=dark] .colab-df-convert:hover {\n",
              "      background-color: #434B5C;\n",
              "      box-shadow: 0px 1px 3px 1px rgba(0, 0, 0, 0.15);\n",
              "      filter: drop-shadow(0px 1px 2px rgba(0, 0, 0, 0.3));\n",
              "      fill: #FFFFFF;\n",
              "    }\n",
              "  </style>\n",
              "\n",
              "    <script>\n",
              "      const buttonEl =\n",
              "        document.querySelector('#df-c8cc68fb-3417-45f3-bfc6-372e3fb5e14a button.colab-df-convert');\n",
              "      buttonEl.style.display =\n",
              "        google.colab.kernel.accessAllowed ? 'block' : 'none';\n",
              "\n",
              "      async function convertToInteractive(key) {\n",
              "        const element = document.querySelector('#df-c8cc68fb-3417-45f3-bfc6-372e3fb5e14a');\n",
              "        const dataTable =\n",
              "          await google.colab.kernel.invokeFunction('convertToInteractive',\n",
              "                                                    [key], {});\n",
              "        if (!dataTable) return;\n",
              "\n",
              "        const docLinkHtml = 'Like what you see? Visit the ' +\n",
              "          '<a target=\"_blank\" href=https://colab.research.google.com/notebooks/data_table.ipynb>data table notebook</a>'\n",
              "          + ' to learn more about interactive tables.';\n",
              "        element.innerHTML = '';\n",
              "        dataTable['output_type'] = 'display_data';\n",
              "        await google.colab.output.renderOutput(dataTable, element);\n",
              "        const docLink = document.createElement('div');\n",
              "        docLink.innerHTML = docLinkHtml;\n",
              "        element.appendChild(docLink);\n",
              "      }\n",
              "    </script>\n",
              "  </div>\n",
              "\n",
              "\n",
              "<div id=\"df-f49c0ccf-2fbc-49f3-ae33-08f0ffe9187d\">\n",
              "  <button class=\"colab-df-quickchart\" onclick=\"quickchart('df-f49c0ccf-2fbc-49f3-ae33-08f0ffe9187d')\"\n",
              "            title=\"Suggest charts.\"\n",
              "            style=\"display:none;\">\n",
              "\n",
              "<svg xmlns=\"http://www.w3.org/2000/svg\" height=\"24px\"viewBox=\"0 0 24 24\"\n",
              "     width=\"24px\">\n",
              "    <g>\n",
              "        <path d=\"M19 3H5c-1.1 0-2 .9-2 2v14c0 1.1.9 2 2 2h14c1.1 0 2-.9 2-2V5c0-1.1-.9-2-2-2zM9 17H7v-7h2v7zm4 0h-2V7h2v10zm4 0h-2v-4h2v4z\"/>\n",
              "    </g>\n",
              "</svg>\n",
              "  </button>\n",
              "\n",
              "<style>\n",
              "  .colab-df-quickchart {\n",
              "      --bg-color: #E8F0FE;\n",
              "      --fill-color: #1967D2;\n",
              "      --hover-bg-color: #E2EBFA;\n",
              "      --hover-fill-color: #174EA6;\n",
              "      --disabled-fill-color: #AAA;\n",
              "      --disabled-bg-color: #DDD;\n",
              "  }\n",
              "\n",
              "  [theme=dark] .colab-df-quickchart {\n",
              "      --bg-color: #3B4455;\n",
              "      --fill-color: #D2E3FC;\n",
              "      --hover-bg-color: #434B5C;\n",
              "      --hover-fill-color: #FFFFFF;\n",
              "      --disabled-bg-color: #3B4455;\n",
              "      --disabled-fill-color: #666;\n",
              "  }\n",
              "\n",
              "  .colab-df-quickchart {\n",
              "    background-color: var(--bg-color);\n",
              "    border: none;\n",
              "    border-radius: 50%;\n",
              "    cursor: pointer;\n",
              "    display: none;\n",
              "    fill: var(--fill-color);\n",
              "    height: 32px;\n",
              "    padding: 0;\n",
              "    width: 32px;\n",
              "  }\n",
              "\n",
              "  .colab-df-quickchart:hover {\n",
              "    background-color: var(--hover-bg-color);\n",
              "    box-shadow: 0 1px 2px rgba(60, 64, 67, 0.3), 0 1px 3px 1px rgba(60, 64, 67, 0.15);\n",
              "    fill: var(--button-hover-fill-color);\n",
              "  }\n",
              "\n",
              "  .colab-df-quickchart-complete:disabled,\n",
              "  .colab-df-quickchart-complete:disabled:hover {\n",
              "    background-color: var(--disabled-bg-color);\n",
              "    fill: var(--disabled-fill-color);\n",
              "    box-shadow: none;\n",
              "  }\n",
              "\n",
              "  .colab-df-spinner {\n",
              "    border: 2px solid var(--fill-color);\n",
              "    border-color: transparent;\n",
              "    border-bottom-color: var(--fill-color);\n",
              "    animation:\n",
              "      spin 1s steps(1) infinite;\n",
              "  }\n",
              "\n",
              "  @keyframes spin {\n",
              "    0% {\n",
              "      border-color: transparent;\n",
              "      border-bottom-color: var(--fill-color);\n",
              "      border-left-color: var(--fill-color);\n",
              "    }\n",
              "    20% {\n",
              "      border-color: transparent;\n",
              "      border-left-color: var(--fill-color);\n",
              "      border-top-color: var(--fill-color);\n",
              "    }\n",
              "    30% {\n",
              "      border-color: transparent;\n",
              "      border-left-color: var(--fill-color);\n",
              "      border-top-color: var(--fill-color);\n",
              "      border-right-color: var(--fill-color);\n",
              "    }\n",
              "    40% {\n",
              "      border-color: transparent;\n",
              "      border-right-color: var(--fill-color);\n",
              "      border-top-color: var(--fill-color);\n",
              "    }\n",
              "    60% {\n",
              "      border-color: transparent;\n",
              "      border-right-color: var(--fill-color);\n",
              "    }\n",
              "    80% {\n",
              "      border-color: transparent;\n",
              "      border-right-color: var(--fill-color);\n",
              "      border-bottom-color: var(--fill-color);\n",
              "    }\n",
              "    90% {\n",
              "      border-color: transparent;\n",
              "      border-bottom-color: var(--fill-color);\n",
              "    }\n",
              "  }\n",
              "</style>\n",
              "\n",
              "  <script>\n",
              "    async function quickchart(key) {\n",
              "      const quickchartButtonEl =\n",
              "        document.querySelector('#' + key + ' button');\n",
              "      quickchartButtonEl.disabled = true;  // To prevent multiple clicks.\n",
              "      quickchartButtonEl.classList.add('colab-df-spinner');\n",
              "      try {\n",
              "        const charts = await google.colab.kernel.invokeFunction(\n",
              "            'suggestCharts', [key], {});\n",
              "      } catch (error) {\n",
              "        console.error('Error during call to suggestCharts:', error);\n",
              "      }\n",
              "      quickchartButtonEl.classList.remove('colab-df-spinner');\n",
              "      quickchartButtonEl.classList.add('colab-df-quickchart-complete');\n",
              "    }\n",
              "    (() => {\n",
              "      let quickchartButtonEl =\n",
              "        document.querySelector('#df-f49c0ccf-2fbc-49f3-ae33-08f0ffe9187d button');\n",
              "      quickchartButtonEl.style.display =\n",
              "        google.colab.kernel.accessAllowed ? 'block' : 'none';\n",
              "    })();\n",
              "  </script>\n",
              "</div>\n",
              "    </div>\n",
              "  </div>\n"
            ]
          },
          "metadata": {},
          "execution_count": 35
        }
      ]
    },
    {
      "cell_type": "markdown",
      "source": [
        "#check for NaN values\n",
        "(1) Check for NaN under a single DataFrame column:\n",
        "df['your column name'].isnull().values.any()\n",
        "\n",
        "(2) Count the NaN under a single DataFrame column:\n",
        "df['your column name'].isnull().sum()\n",
        "\n",
        "(3) Check for NaN under an entire DataFrame:\n",
        "df.isnull().values.any()\n",
        "\n",
        "(4) Count the NaN under an entire DataFrame:\n",
        "df.isnull().sum().sum()"
      ],
      "metadata": {
        "id": "KLUWmhrq-wx8"
      }
    },
    {
      "cell_type": "code",
      "source": [
        "med_data_onehotencoded.isnull().values.any()"
      ],
      "metadata": {
        "colab": {
          "base_uri": "https://localhost:8080/"
        },
        "id": "Hqp1c9tV-fnq",
        "outputId": "bbc4294a-dc57-4581-de78-b6d5c34c7588"
      },
      "execution_count": null,
      "outputs": [
        {
          "output_type": "execute_result",
          "data": {
            "text/plain": [
              "False"
            ]
          },
          "metadata": {},
          "execution_count": 36
        }
      ]
    },
    {
      "cell_type": "code",
      "source": [
        "#create X & y values\n",
        "X = med_data_onehotencoded.drop(\"charges\", axis=1)\n",
        "#axis: o-horizontal, 1-vertical\n",
        "y = med_data_onehotencoded['charges']\n",
        "y.head()"
      ],
      "metadata": {
        "colab": {
          "base_uri": "https://localhost:8080/"
        },
        "id": "cRwE5kom9HNO",
        "outputId": "2a742786-0dfa-4aed-8e03-67909022634e"
      },
      "execution_count": null,
      "outputs": [
        {
          "output_type": "execute_result",
          "data": {
            "text/plain": [
              "0    16884.92400\n",
              "1     1725.55230\n",
              "2     4449.46200\n",
              "3    21984.47061\n",
              "4     3866.85520\n",
              "Name: charges, dtype: float64"
            ]
          },
          "metadata": {},
          "execution_count": 118
        }
      ]
    },
    {
      "cell_type": "code",
      "source": [
        "#cerate training and split sets\n",
        "from sklearn.model_selection import train_test_split\n",
        "X_train, X_test, y_train, y_test = train_test_split(X, y,\n",
        "                                    test_size=0.2,\n",
        "                                    random_state=42)\n"
      ],
      "metadata": {
        "id": "z9gLpN26AUob"
      },
      "execution_count": null,
      "outputs": []
    },
    {
      "cell_type": "code",
      "source": [
        "len(X_train), len(X_test)"
      ],
      "metadata": {
        "colab": {
          "base_uri": "https://localhost:8080/"
        },
        "id": "RrjF69LgBQps",
        "outputId": "b924b901-a8a8-43c2-a657-026473884694"
      },
      "execution_count": null,
      "outputs": [
        {
          "output_type": "execute_result",
          "data": {
            "text/plain": [
              "(1070, 268)"
            ]
          },
          "metadata": {},
          "execution_count": 120
        }
      ]
    },
    {
      "cell_type": "code",
      "source": [
        "len(y_train)"
      ],
      "metadata": {
        "colab": {
          "base_uri": "https://localhost:8080/"
        },
        "id": "x-tepaXdCVti",
        "outputId": "ec40cdd0-e0ae-4793-92bf-1dd34fd1fd08"
      },
      "execution_count": null,
      "outputs": [
        {
          "output_type": "execute_result",
          "data": {
            "text/plain": [
              "1070"
            ]
          },
          "metadata": {},
          "execution_count": 65
        }
      ]
    },
    {
      "cell_type": "code",
      "source": [
        "y_train"
      ],
      "metadata": {
        "colab": {
          "base_uri": "https://localhost:8080/"
        },
        "id": "G4nM_RFVCbUc",
        "outputId": "971c39a1-fc80-4780-92c3-d45a16b94112"
      },
      "execution_count": null,
      "outputs": [
        {
          "output_type": "execute_result",
          "data": {
            "text/plain": [
              "560      9193.83850\n",
              "1285     8534.67180\n",
              "1142    27117.99378\n",
              "969      8596.82780\n",
              "486     12475.35130\n",
              "           ...     \n",
              "1095     4561.18850\n",
              "1130     8582.30230\n",
              "1294    11931.12525\n",
              "860     46113.51100\n",
              "1126    10214.63600\n",
              "Name: charges, Length: 1070, dtype: float64"
            ]
          },
          "metadata": {},
          "execution_count": 66
        }
      ]
    },
    {
      "cell_type": "code",
      "source": [
        "X_train.shape"
      ],
      "metadata": {
        "colab": {
          "base_uri": "https://localhost:8080/"
        },
        "id": "grm5AFkTCv1l",
        "outputId": "b8aaa2c8-7822-4556-a84a-c6afd9b405b6"
      },
      "execution_count": null,
      "outputs": [
        {
          "output_type": "execute_result",
          "data": {
            "text/plain": [
              "(1070, 11)"
            ]
          },
          "metadata": {},
          "execution_count": 40
        }
      ]
    },
    {
      "cell_type": "markdown",
      "source": [
        "Now we can build our model\n"
      ],
      "metadata": {
        "id": "RRErC98GB1zP"
      }
    },
    {
      "cell_type": "code",
      "source": [
        "tf.random.set_seed(42)\n",
        "\n",
        "#create the model\n",
        "med_model = tf.keras.Sequential([\n",
        "    tf.keras.layers.Dense(1),\n",
        "    tf.keras.layers.Dense(1)\n",
        "])\n",
        "\n",
        "#compile the model\n",
        "med_model.compile(loss=tf.keras.losses.mae,\n",
        "                  optimizer=tf.keras.optimizers.SGD(),\n",
        "                  metrics='mae')\n",
        "med_model.fit(X_train, y_train, epochs=100)\n"
      ],
      "metadata": {
        "colab": {
          "base_uri": "https://localhost:8080/"
        },
        "id": "yskjL-6HBrOb",
        "outputId": "58aa53d9-ab76-4ef1-deca-a8434550689c"
      },
      "execution_count": null,
      "outputs": [
        {
          "output_type": "stream",
          "name": "stdout",
          "text": [
            "Epoch 1/100\n",
            "34/34 [==============================] - 0s 1ms/step - loss: 10275.2041 - mae: 10275.2041\n",
            "Epoch 2/100\n",
            "34/34 [==============================] - 0s 979us/step - loss: 7878.1177 - mae: 7878.1177\n",
            "Epoch 3/100\n",
            "34/34 [==============================] - 0s 880us/step - loss: 7573.3389 - mae: 7573.3389\n",
            "Epoch 4/100\n",
            "34/34 [==============================] - 0s 930us/step - loss: 7787.2422 - mae: 7787.2422\n",
            "Epoch 5/100\n",
            "34/34 [==============================] - 0s 1ms/step - loss: 7687.8569 - mae: 7687.8569\n",
            "Epoch 6/100\n",
            "34/34 [==============================] - 0s 1ms/step - loss: 7613.5723 - mae: 7613.5723\n",
            "Epoch 7/100\n",
            "34/34 [==============================] - 0s 1ms/step - loss: 7564.7109 - mae: 7564.7109\n",
            "Epoch 8/100\n",
            "34/34 [==============================] - 0s 1ms/step - loss: 7766.5918 - mae: 7766.5918\n",
            "Epoch 9/100\n",
            "34/34 [==============================] - 0s 990us/step - loss: 7587.0552 - mae: 7587.0552\n",
            "Epoch 10/100\n",
            "34/34 [==============================] - 0s 1ms/step - loss: 7684.6865 - mae: 7684.6865\n",
            "Epoch 11/100\n",
            "34/34 [==============================] - 0s 1ms/step - loss: 7479.4717 - mae: 7479.4717\n",
            "Epoch 12/100\n",
            "34/34 [==============================] - 0s 977us/step - loss: 7701.8218 - mae: 7701.8218\n",
            "Epoch 13/100\n",
            "34/34 [==============================] - 0s 1ms/step - loss: 7691.2925 - mae: 7691.2925\n",
            "Epoch 14/100\n",
            "34/34 [==============================] - 0s 1ms/step - loss: 7775.5469 - mae: 7775.5469\n",
            "Epoch 15/100\n",
            "34/34 [==============================] - 0s 1ms/step - loss: 7649.1694 - mae: 7649.1694\n",
            "Epoch 16/100\n",
            "34/34 [==============================] - 0s 1ms/step - loss: 7705.3853 - mae: 7705.3853\n",
            "Epoch 17/100\n",
            "34/34 [==============================] - 0s 979us/step - loss: 7624.6138 - mae: 7624.6138\n",
            "Epoch 18/100\n",
            "34/34 [==============================] - 0s 998us/step - loss: 7859.9624 - mae: 7859.9624\n",
            "Epoch 19/100\n",
            "34/34 [==============================] - 0s 1ms/step - loss: 7784.9805 - mae: 7784.9805\n",
            "Epoch 20/100\n",
            "34/34 [==============================] - 0s 998us/step - loss: 7869.2036 - mae: 7869.2036\n",
            "Epoch 21/100\n",
            "34/34 [==============================] - 0s 985us/step - loss: 7455.9531 - mae: 7455.9531\n",
            "Epoch 22/100\n",
            "34/34 [==============================] - 0s 1ms/step - loss: 7859.9839 - mae: 7859.9839\n",
            "Epoch 23/100\n",
            "34/34 [==============================] - 0s 996us/step - loss: 7730.5381 - mae: 7730.5381\n",
            "Epoch 24/100\n",
            "34/34 [==============================] - 0s 990us/step - loss: 7538.0723 - mae: 7538.0723\n",
            "Epoch 25/100\n",
            "34/34 [==============================] - 0s 1ms/step - loss: 7628.2988 - mae: 7628.2988\n",
            "Epoch 26/100\n",
            "34/34 [==============================] - 0s 1ms/step - loss: 7605.0171 - mae: 7605.0171\n",
            "Epoch 27/100\n",
            "34/34 [==============================] - 0s 1ms/step - loss: 7734.0103 - mae: 7734.0103\n",
            "Epoch 28/100\n",
            "34/34 [==============================] - 0s 1ms/step - loss: 7404.1221 - mae: 7404.1221\n",
            "Epoch 29/100\n",
            "34/34 [==============================] - 0s 1ms/step - loss: 7693.3984 - mae: 7693.3984\n",
            "Epoch 30/100\n",
            "34/34 [==============================] - 0s 1ms/step - loss: 7693.3296 - mae: 7693.3296\n",
            "Epoch 31/100\n",
            "34/34 [==============================] - 0s 1ms/step - loss: 7525.4775 - mae: 7525.4775\n",
            "Epoch 32/100\n",
            "34/34 [==============================] - 0s 997us/step - loss: 7532.1577 - mae: 7532.1577\n",
            "Epoch 33/100\n",
            "34/34 [==============================] - 0s 1ms/step - loss: 7432.9258 - mae: 7432.9258\n",
            "Epoch 34/100\n",
            "34/34 [==============================] - 0s 1ms/step - loss: 7455.4136 - mae: 7455.4136\n",
            "Epoch 35/100\n",
            "34/34 [==============================] - 0s 1ms/step - loss: 7606.2080 - mae: 7606.2080\n",
            "Epoch 36/100\n",
            "34/34 [==============================] - 0s 1ms/step - loss: 7554.7549 - mae: 7554.7549\n",
            "Epoch 37/100\n",
            "34/34 [==============================] - 0s 1ms/step - loss: 7562.5479 - mae: 7562.5479\n",
            "Epoch 38/100\n",
            "34/34 [==============================] - 0s 1ms/step - loss: 7359.6738 - mae: 7359.6738\n",
            "Epoch 39/100\n",
            "34/34 [==============================] - 0s 1ms/step - loss: 7526.1895 - mae: 7526.1895\n",
            "Epoch 40/100\n",
            "34/34 [==============================] - 0s 1ms/step - loss: 7492.2905 - mae: 7492.2905\n",
            "Epoch 41/100\n",
            "34/34 [==============================] - 0s 991us/step - loss: 7757.0991 - mae: 7757.0991\n",
            "Epoch 42/100\n",
            "34/34 [==============================] - 0s 1ms/step - loss: 7318.9922 - mae: 7318.9922\n",
            "Epoch 43/100\n",
            "34/34 [==============================] - 0s 1ms/step - loss: 7670.3394 - mae: 7670.3394\n",
            "Epoch 44/100\n",
            "34/34 [==============================] - 0s 1ms/step - loss: 7376.5518 - mae: 7376.5518\n",
            "Epoch 45/100\n",
            "34/34 [==============================] - 0s 1ms/step - loss: 7384.6045 - mae: 7384.6045\n",
            "Epoch 46/100\n",
            "34/34 [==============================] - 0s 1ms/step - loss: 7580.2407 - mae: 7580.2407\n",
            "Epoch 47/100\n",
            "34/34 [==============================] - 0s 1ms/step - loss: 7303.7915 - mae: 7303.7915\n",
            "Epoch 48/100\n",
            "34/34 [==============================] - 0s 1ms/step - loss: 7430.3711 - mae: 7430.3711\n",
            "Epoch 49/100\n",
            "34/34 [==============================] - 0s 1ms/step - loss: 7538.7144 - mae: 7538.7144\n",
            "Epoch 50/100\n",
            "34/34 [==============================] - 0s 1000us/step - loss: 7485.9429 - mae: 7485.9429\n",
            "Epoch 51/100\n",
            "34/34 [==============================] - 0s 1ms/step - loss: 7371.1436 - mae: 7371.1436\n",
            "Epoch 52/100\n",
            "34/34 [==============================] - 0s 1ms/step - loss: 7460.8682 - mae: 7460.8682\n",
            "Epoch 53/100\n",
            "34/34 [==============================] - 0s 1ms/step - loss: 7538.4263 - mae: 7538.4263\n",
            "Epoch 54/100\n",
            "34/34 [==============================] - 0s 1ms/step - loss: 7290.7358 - mae: 7290.7358\n",
            "Epoch 55/100\n",
            "34/34 [==============================] - 0s 1ms/step - loss: 7505.3188 - mae: 7505.3188\n",
            "Epoch 56/100\n",
            "34/34 [==============================] - 0s 1ms/step - loss: 7428.1694 - mae: 7428.1694\n",
            "Epoch 57/100\n",
            "34/34 [==============================] - 0s 1ms/step - loss: 7489.8306 - mae: 7489.8306\n",
            "Epoch 58/100\n",
            "34/34 [==============================] - 0s 1ms/step - loss: 7478.7676 - mae: 7478.7676\n",
            "Epoch 59/100\n",
            "34/34 [==============================] - 0s 1ms/step - loss: 7650.9243 - mae: 7650.9243\n",
            "Epoch 60/100\n",
            "34/34 [==============================] - 0s 999us/step - loss: 7444.3223 - mae: 7444.3223\n",
            "Epoch 61/100\n",
            "34/34 [==============================] - 0s 1ms/step - loss: 7438.7739 - mae: 7438.7739\n",
            "Epoch 62/100\n",
            "34/34 [==============================] - 0s 976us/step - loss: 7242.8970 - mae: 7242.8970\n",
            "Epoch 63/100\n",
            "34/34 [==============================] - 0s 996us/step - loss: 7325.0977 - mae: 7325.0977\n",
            "Epoch 64/100\n",
            "34/34 [==============================] - 0s 1ms/step - loss: 7284.2056 - mae: 7284.2056\n",
            "Epoch 65/100\n",
            "34/34 [==============================] - 0s 1ms/step - loss: 7518.5225 - mae: 7518.5225\n",
            "Epoch 66/100\n",
            "34/34 [==============================] - 0s 1ms/step - loss: 7292.7202 - mae: 7292.7202\n",
            "Epoch 67/100\n",
            "34/34 [==============================] - 0s 1ms/step - loss: 7390.1499 - mae: 7390.1499\n",
            "Epoch 68/100\n",
            "34/34 [==============================] - 0s 970us/step - loss: 7384.6836 - mae: 7384.6836\n",
            "Epoch 69/100\n",
            "34/34 [==============================] - 0s 959us/step - loss: 7400.3872 - mae: 7400.3872\n",
            "Epoch 70/100\n",
            "34/34 [==============================] - 0s 985us/step - loss: 7672.3193 - mae: 7672.3193\n",
            "Epoch 71/100\n",
            "34/34 [==============================] - 0s 965us/step - loss: 7302.3970 - mae: 7302.3970\n",
            "Epoch 72/100\n",
            "34/34 [==============================] - 0s 981us/step - loss: 7416.5649 - mae: 7416.5649\n",
            "Epoch 73/100\n",
            "34/34 [==============================] - 0s 998us/step - loss: 7385.8706 - mae: 7385.8706\n",
            "Epoch 74/100\n",
            "34/34 [==============================] - 0s 977us/step - loss: 7490.6519 - mae: 7490.6519\n",
            "Epoch 75/100\n",
            "34/34 [==============================] - 0s 1ms/step - loss: 7299.2246 - mae: 7299.2246\n",
            "Epoch 76/100\n",
            "34/34 [==============================] - 0s 1ms/step - loss: 7309.3296 - mae: 7309.3296\n",
            "Epoch 77/100\n",
            "34/34 [==============================] - 0s 1ms/step - loss: 7480.7905 - mae: 7480.7905\n",
            "Epoch 78/100\n",
            "34/34 [==============================] - 0s 1ms/step - loss: 7265.9902 - mae: 7265.9902\n",
            "Epoch 79/100\n",
            "34/34 [==============================] - 0s 962us/step - loss: 7450.7993 - mae: 7450.7993\n",
            "Epoch 80/100\n",
            "34/34 [==============================] - 0s 1ms/step - loss: 7097.0684 - mae: 7097.0684\n",
            "Epoch 81/100\n",
            "34/34 [==============================] - 0s 1ms/step - loss: 7333.4463 - mae: 7333.4463\n",
            "Epoch 82/100\n",
            "34/34 [==============================] - 0s 1ms/step - loss: 7347.7227 - mae: 7347.7227\n",
            "Epoch 83/100\n",
            "34/34 [==============================] - 0s 1ms/step - loss: 7489.1230 - mae: 7489.1230\n",
            "Epoch 84/100\n",
            "34/34 [==============================] - 0s 1ms/step - loss: 7388.3447 - mae: 7388.3447\n",
            "Epoch 85/100\n",
            "34/34 [==============================] - 0s 1ms/step - loss: 7175.8096 - mae: 7175.8096\n",
            "Epoch 86/100\n",
            "34/34 [==============================] - 0s 1ms/step - loss: 7370.5566 - mae: 7370.5566\n",
            "Epoch 87/100\n",
            "34/34 [==============================] - 0s 1ms/step - loss: 7274.3462 - mae: 7274.3462\n",
            "Epoch 88/100\n",
            "34/34 [==============================] - 0s 1ms/step - loss: 7251.7485 - mae: 7251.7485\n",
            "Epoch 89/100\n",
            "34/34 [==============================] - 0s 1ms/step - loss: 7518.2773 - mae: 7518.2773\n",
            "Epoch 90/100\n",
            "34/34 [==============================] - 0s 1ms/step - loss: 7157.7324 - mae: 7157.7324\n",
            "Epoch 91/100\n",
            "34/34 [==============================] - 0s 1ms/step - loss: 7440.3926 - mae: 7440.3926\n",
            "Epoch 92/100\n",
            "34/34 [==============================] - 0s 1ms/step - loss: 7281.7974 - mae: 7281.7974\n",
            "Epoch 93/100\n",
            "34/34 [==============================] - 0s 1ms/step - loss: 7449.0181 - mae: 7449.0181\n",
            "Epoch 94/100\n",
            "34/34 [==============================] - 0s 1ms/step - loss: 7264.7812 - mae: 7264.7812\n",
            "Epoch 95/100\n",
            "34/34 [==============================] - 0s 1ms/step - loss: 7500.6172 - mae: 7500.6172\n",
            "Epoch 96/100\n",
            "34/34 [==============================] - 0s 1ms/step - loss: 7284.2598 - mae: 7284.2598\n",
            "Epoch 97/100\n",
            "34/34 [==============================] - 0s 1ms/step - loss: 7092.6855 - mae: 7092.6855\n",
            "Epoch 98/100\n",
            "34/34 [==============================] - 0s 1ms/step - loss: 7357.4189 - mae: 7357.4189\n",
            "Epoch 99/100\n",
            "34/34 [==============================] - 0s 1ms/step - loss: 7155.6597 - mae: 7155.6597\n",
            "Epoch 100/100\n",
            "34/34 [==============================] - 0s 1ms/step - loss: 7146.4951 - mae: 7146.4951\n"
          ]
        },
        {
          "output_type": "execute_result",
          "data": {
            "text/plain": [
              "<keras.src.callbacks.History at 0x7c87c78d0c10>"
            ]
          },
          "metadata": {},
          "execution_count": 121
        }
      ]
    },
    {
      "cell_type": "code",
      "source": [
        "# Chweck the results of the model\n",
        "med_model.evaluate(X_test, y_test)"
      ],
      "metadata": {
        "colab": {
          "base_uri": "https://localhost:8080/"
        },
        "id": "lZRWvAMrEuRV",
        "outputId": "1c1e20cd-cc13-4ece-c0ca-fa8459e61519"
      },
      "execution_count": null,
      "outputs": [
        {
          "output_type": "stream",
          "name": "stdout",
          "text": [
            "9/9 [==============================] - 0s 1ms/step - loss: 7298.0415 - mae: 7298.0415\n"
          ]
        },
        {
          "output_type": "execute_result",
          "data": {
            "text/plain": [
              "[7298.04150390625, 7298.04150390625]"
            ]
          },
          "metadata": {},
          "execution_count": 122
        }
      ]
    },
    {
      "cell_type": "markdown",
      "source": [
        "#model didnt do well. so we'll improve the model by:\n",
        "- increase the layer\n",
        "- increase the units\n",
        "- change the optimizer"
      ],
      "metadata": {
        "id": "9UKsXdfOFvbp"
      }
    },
    {
      "cell_type": "code",
      "source": [
        "tf.random.set_seed(42)\n",
        "\n",
        "med_model1 = tf.keras.Sequential([\n",
        "    tf.keras.layers.Dense(100),\n",
        "    tf.keras.layers.Dense(10),\n",
        "    tf.keras.layers.Dense(1)  #output layer\n",
        "])\n",
        "\n",
        "med_model1.compile(loss=tf.keras.losses.mae,\n",
        "                   optimizer=tf.keras.optimizers.Adam(),\n",
        "                   metrics=['mae'])\n",
        "\n",
        "history = med_model1.fit(X_train, y_train, epochs=100, verbose=1)"
      ],
      "metadata": {
        "colab": {
          "base_uri": "https://localhost:8080/"
        },
        "id": "UKxyiQu7FSRY",
        "outputId": "5b4ab90c-c607-4c56-db08-09596eb69fd0"
      },
      "execution_count": null,
      "outputs": [
        {
          "output_type": "stream",
          "name": "stdout",
          "text": [
            "Epoch 1/100\n",
            "34/34 [==============================] - 1s 2ms/step - loss: 13292.2988 - mae: 13292.2988\n",
            "Epoch 2/100\n",
            "34/34 [==============================] - 0s 2ms/step - loss: 13116.3203 - mae: 13116.3203\n",
            "Epoch 3/100\n",
            "34/34 [==============================] - 0s 2ms/step - loss: 12758.1182 - mae: 12758.1182\n",
            "Epoch 4/100\n",
            "34/34 [==============================] - 0s 2ms/step - loss: 12048.5439 - mae: 12048.5439\n",
            "Epoch 5/100\n",
            "34/34 [==============================] - 0s 1ms/step - loss: 10848.1787 - mae: 10848.1787\n",
            "Epoch 6/100\n",
            "34/34 [==============================] - 0s 1ms/step - loss: 9327.8965 - mae: 9327.8965\n",
            "Epoch 7/100\n",
            "34/34 [==============================] - 0s 1ms/step - loss: 8003.5449 - mae: 8003.5449\n",
            "Epoch 8/100\n",
            "34/34 [==============================] - 0s 2ms/step - loss: 7466.4648 - mae: 7466.4648\n",
            "Epoch 9/100\n",
            "34/34 [==============================] - 0s 2ms/step - loss: 7395.6777 - mae: 7395.6777\n",
            "Epoch 10/100\n",
            "34/34 [==============================] - 0s 2ms/step - loss: 7375.5674 - mae: 7375.5674\n",
            "Epoch 11/100\n",
            "34/34 [==============================] - 0s 2ms/step - loss: 7356.1387 - mae: 7356.1387\n",
            "Epoch 12/100\n",
            "34/34 [==============================] - 0s 2ms/step - loss: 7333.3696 - mae: 7333.3696\n",
            "Epoch 13/100\n",
            "34/34 [==============================] - 0s 2ms/step - loss: 7312.3936 - mae: 7312.3936\n",
            "Epoch 14/100\n",
            "34/34 [==============================] - 0s 2ms/step - loss: 7289.0815 - mae: 7289.0815\n",
            "Epoch 15/100\n",
            "34/34 [==============================] - 0s 1ms/step - loss: 7269.5771 - mae: 7269.5771\n",
            "Epoch 16/100\n",
            "34/34 [==============================] - 0s 1ms/step - loss: 7246.8403 - mae: 7246.8403\n",
            "Epoch 17/100\n",
            "34/34 [==============================] - 0s 1ms/step - loss: 7224.4912 - mae: 7224.4912\n",
            "Epoch 18/100\n",
            "34/34 [==============================] - 0s 1ms/step - loss: 7200.5312 - mae: 7200.5312\n",
            "Epoch 19/100\n",
            "34/34 [==============================] - 0s 1ms/step - loss: 7176.6479 - mae: 7176.6479\n",
            "Epoch 20/100\n",
            "34/34 [==============================] - 0s 1ms/step - loss: 7151.3276 - mae: 7151.3276\n",
            "Epoch 21/100\n",
            "34/34 [==============================] - 0s 1ms/step - loss: 7130.9771 - mae: 7130.9771\n",
            "Epoch 22/100\n",
            "34/34 [==============================] - 0s 1ms/step - loss: 7102.0298 - mae: 7102.0298\n",
            "Epoch 23/100\n",
            "34/34 [==============================] - 0s 1ms/step - loss: 7075.6699 - mae: 7075.6699\n",
            "Epoch 24/100\n",
            "34/34 [==============================] - 0s 1ms/step - loss: 7048.8281 - mae: 7048.8281\n",
            "Epoch 25/100\n",
            "34/34 [==============================] - 0s 1ms/step - loss: 7028.1938 - mae: 7028.1938\n",
            "Epoch 26/100\n",
            "34/34 [==============================] - 0s 1ms/step - loss: 6994.8457 - mae: 6994.8457\n",
            "Epoch 27/100\n",
            "34/34 [==============================] - 0s 1ms/step - loss: 6965.2104 - mae: 6965.2104\n",
            "Epoch 28/100\n",
            "34/34 [==============================] - 0s 1ms/step - loss: 6934.5225 - mae: 6934.5225\n",
            "Epoch 29/100\n",
            "34/34 [==============================] - 0s 1ms/step - loss: 6903.8530 - mae: 6903.8530\n",
            "Epoch 30/100\n",
            "34/34 [==============================] - 0s 1ms/step - loss: 6876.6836 - mae: 6876.6836\n",
            "Epoch 31/100\n",
            "34/34 [==============================] - 0s 1ms/step - loss: 6842.6196 - mae: 6842.6196\n",
            "Epoch 32/100\n",
            "34/34 [==============================] - 0s 1ms/step - loss: 6811.5303 - mae: 6811.5303\n",
            "Epoch 33/100\n",
            "34/34 [==============================] - 0s 1ms/step - loss: 6777.0542 - mae: 6777.0542\n",
            "Epoch 34/100\n",
            "34/34 [==============================] - 0s 1ms/step - loss: 6742.4062 - mae: 6742.4062\n",
            "Epoch 35/100\n",
            "34/34 [==============================] - 0s 1ms/step - loss: 6706.8149 - mae: 6706.8149\n",
            "Epoch 36/100\n",
            "34/34 [==============================] - 0s 1ms/step - loss: 6671.5322 - mae: 6671.5322\n",
            "Epoch 37/100\n",
            "34/34 [==============================] - 0s 1ms/step - loss: 6634.8257 - mae: 6634.8257\n",
            "Epoch 38/100\n",
            "34/34 [==============================] - 0s 1ms/step - loss: 6603.8521 - mae: 6603.8521\n",
            "Epoch 39/100\n",
            "34/34 [==============================] - 0s 1ms/step - loss: 6567.0972 - mae: 6567.0972\n",
            "Epoch 40/100\n",
            "34/34 [==============================] - 0s 1ms/step - loss: 6539.8042 - mae: 6539.8042\n",
            "Epoch 41/100\n",
            "34/34 [==============================] - 0s 1ms/step - loss: 6517.5835 - mae: 6517.5835\n",
            "Epoch 42/100\n",
            "34/34 [==============================] - 0s 1ms/step - loss: 6498.4561 - mae: 6498.4561\n",
            "Epoch 43/100\n",
            "34/34 [==============================] - 0s 1ms/step - loss: 6480.7729 - mae: 6480.7729\n",
            "Epoch 44/100\n",
            "34/34 [==============================] - 0s 1ms/step - loss: 6462.2446 - mae: 6462.2446\n",
            "Epoch 45/100\n",
            "34/34 [==============================] - 0s 1ms/step - loss: 6454.5483 - mae: 6454.5483\n",
            "Epoch 46/100\n",
            "34/34 [==============================] - 0s 1ms/step - loss: 6436.1001 - mae: 6436.1001\n",
            "Epoch 47/100\n",
            "34/34 [==============================] - 0s 1ms/step - loss: 6421.0996 - mae: 6421.0996\n",
            "Epoch 48/100\n",
            "34/34 [==============================] - 0s 1ms/step - loss: 6407.2319 - mae: 6407.2319\n",
            "Epoch 49/100\n",
            "34/34 [==============================] - 0s 1ms/step - loss: 6395.5703 - mae: 6395.5703\n",
            "Epoch 50/100\n",
            "34/34 [==============================] - 0s 1ms/step - loss: 6380.9282 - mae: 6380.9282\n",
            "Epoch 51/100\n",
            "34/34 [==============================] - 0s 1ms/step - loss: 6366.3208 - mae: 6366.3208\n",
            "Epoch 52/100\n",
            "34/34 [==============================] - 0s 1ms/step - loss: 6352.9307 - mae: 6352.9307\n",
            "Epoch 53/100\n",
            "34/34 [==============================] - 0s 1ms/step - loss: 6337.8784 - mae: 6337.8784\n",
            "Epoch 54/100\n",
            "34/34 [==============================] - 0s 1ms/step - loss: 6323.4819 - mae: 6323.4819\n",
            "Epoch 55/100\n",
            "34/34 [==============================] - 0s 1ms/step - loss: 6308.0093 - mae: 6308.0093\n",
            "Epoch 56/100\n",
            "34/34 [==============================] - 0s 1ms/step - loss: 6293.6445 - mae: 6293.6445\n",
            "Epoch 57/100\n",
            "34/34 [==============================] - 0s 1ms/step - loss: 6278.4272 - mae: 6278.4272\n",
            "Epoch 58/100\n",
            "34/34 [==============================] - 0s 1ms/step - loss: 6263.3350 - mae: 6263.3350\n",
            "Epoch 59/100\n",
            "34/34 [==============================] - 0s 1ms/step - loss: 6246.5474 - mae: 6246.5474\n",
            "Epoch 60/100\n",
            "34/34 [==============================] - 0s 1ms/step - loss: 6234.1333 - mae: 6234.1333\n",
            "Epoch 61/100\n",
            "34/34 [==============================] - 0s 1ms/step - loss: 6212.0117 - mae: 6212.0117\n",
            "Epoch 62/100\n",
            "34/34 [==============================] - 0s 1ms/step - loss: 6199.1177 - mae: 6199.1177\n",
            "Epoch 63/100\n",
            "34/34 [==============================] - 0s 1ms/step - loss: 6177.7627 - mae: 6177.7627\n",
            "Epoch 64/100\n",
            "34/34 [==============================] - 0s 1ms/step - loss: 6158.5366 - mae: 6158.5366\n",
            "Epoch 65/100\n",
            "34/34 [==============================] - 0s 1ms/step - loss: 6139.2119 - mae: 6139.2119\n",
            "Epoch 66/100\n",
            "34/34 [==============================] - 0s 1ms/step - loss: 6118.9375 - mae: 6118.9375\n",
            "Epoch 67/100\n",
            "34/34 [==============================] - 0s 1ms/step - loss: 6104.2148 - mae: 6104.2148\n",
            "Epoch 68/100\n",
            "34/34 [==============================] - 0s 1ms/step - loss: 6078.2803 - mae: 6078.2803\n",
            "Epoch 69/100\n",
            "34/34 [==============================] - 0s 1ms/step - loss: 6059.2568 - mae: 6059.2568\n",
            "Epoch 70/100\n",
            "34/34 [==============================] - 0s 1ms/step - loss: 6035.9834 - mae: 6035.9834\n",
            "Epoch 71/100\n",
            "34/34 [==============================] - 0s 1ms/step - loss: 6012.7817 - mae: 6012.7817\n",
            "Epoch 72/100\n",
            "34/34 [==============================] - 0s 1ms/step - loss: 5989.2119 - mae: 5989.2119\n",
            "Epoch 73/100\n",
            "34/34 [==============================] - 0s 1ms/step - loss: 5972.6479 - mae: 5972.6479\n",
            "Epoch 74/100\n",
            "34/34 [==============================] - 0s 1ms/step - loss: 5938.5410 - mae: 5938.5410\n",
            "Epoch 75/100\n",
            "34/34 [==============================] - 0s 1ms/step - loss: 5912.7783 - mae: 5912.7783\n",
            "Epoch 76/100\n",
            "34/34 [==============================] - 0s 1ms/step - loss: 5892.6226 - mae: 5892.6226\n",
            "Epoch 77/100\n",
            "34/34 [==============================] - 0s 1ms/step - loss: 5857.5103 - mae: 5857.5103\n",
            "Epoch 78/100\n",
            "34/34 [==============================] - 0s 1ms/step - loss: 5828.6577 - mae: 5828.6577\n",
            "Epoch 79/100\n",
            "34/34 [==============================] - 0s 1ms/step - loss: 5797.7505 - mae: 5797.7505\n",
            "Epoch 80/100\n",
            "34/34 [==============================] - 0s 1ms/step - loss: 5764.4268 - mae: 5764.4268\n",
            "Epoch 81/100\n",
            "34/34 [==============================] - 0s 1ms/step - loss: 5733.2695 - mae: 5733.2695\n",
            "Epoch 82/100\n",
            "34/34 [==============================] - 0s 1ms/step - loss: 5696.8228 - mae: 5696.8228\n",
            "Epoch 83/100\n",
            "34/34 [==============================] - 0s 1ms/step - loss: 5662.7412 - mae: 5662.7412\n",
            "Epoch 84/100\n",
            "34/34 [==============================] - 0s 1ms/step - loss: 5621.6362 - mae: 5621.6362\n",
            "Epoch 85/100\n",
            "34/34 [==============================] - 0s 1ms/step - loss: 5586.7349 - mae: 5586.7349\n",
            "Epoch 86/100\n",
            "34/34 [==============================] - 0s 1ms/step - loss: 5545.2915 - mae: 5545.2915\n",
            "Epoch 87/100\n",
            "34/34 [==============================] - 0s 1ms/step - loss: 5498.9580 - mae: 5498.9580\n",
            "Epoch 88/100\n",
            "34/34 [==============================] - 0s 1ms/step - loss: 5454.0952 - mae: 5454.0952\n",
            "Epoch 89/100\n",
            "34/34 [==============================] - 0s 1ms/step - loss: 5405.3086 - mae: 5405.3086\n",
            "Epoch 90/100\n",
            "34/34 [==============================] - 0s 1ms/step - loss: 5352.3643 - mae: 5352.3643\n",
            "Epoch 91/100\n",
            "34/34 [==============================] - 0s 1ms/step - loss: 5302.5835 - mae: 5302.5835\n",
            "Epoch 92/100\n",
            "34/34 [==============================] - 0s 2ms/step - loss: 5246.5381 - mae: 5246.5381\n",
            "Epoch 93/100\n",
            "34/34 [==============================] - 0s 1ms/step - loss: 5190.6597 - mae: 5190.6597\n",
            "Epoch 94/100\n",
            "34/34 [==============================] - 0s 1ms/step - loss: 5129.3013 - mae: 5129.3013\n",
            "Epoch 95/100\n",
            "34/34 [==============================] - 0s 1ms/step - loss: 5065.4614 - mae: 5065.4614\n",
            "Epoch 96/100\n",
            "34/34 [==============================] - 0s 1ms/step - loss: 5008.7144 - mae: 5008.7144\n",
            "Epoch 97/100\n",
            "34/34 [==============================] - 0s 1ms/step - loss: 4938.4429 - mae: 4938.4429\n",
            "Epoch 98/100\n",
            "34/34 [==============================] - 0s 1ms/step - loss: 4867.2554 - mae: 4867.2554\n",
            "Epoch 99/100\n",
            "34/34 [==============================] - 0s 2ms/step - loss: 4782.2754 - mae: 4782.2754\n",
            "Epoch 100/100\n",
            "34/34 [==============================] - 0s 1ms/step - loss: 4717.9360 - mae: 4717.9360\n"
          ]
        }
      ]
    },
    {
      "cell_type": "markdown",
      "source": [
        "The SGD optimizer outputed NAN. This happens when the gradients beceoms too largwe or too small during training. So i switched to Adam() optimizer"
      ],
      "metadata": {
        "id": "bvwkBDAQJQ5z"
      }
    },
    {
      "cell_type": "code",
      "source": [
        "med_model_eval = med_model1.evaluate(X_test, y_test)"
      ],
      "metadata": {
        "colab": {
          "base_uri": "https://localhost:8080/"
        },
        "id": "l5Lh-CtGIDHe",
        "outputId": "12d4e5b1-55f6-4daa-aa67-2beb1eca0418"
      },
      "execution_count": null,
      "outputs": [
        {
          "output_type": "stream",
          "name": "stdout",
          "text": [
            "9/9 [==============================] - 0s 1ms/step - loss: 4596.0728 - mae: 4596.0728\n"
          ]
        }
      ]
    },
    {
      "cell_type": "code",
      "source": [
        "history.history.keys()"
      ],
      "metadata": {
        "colab": {
          "base_uri": "https://localhost:8080/"
        },
        "id": "2zrg2LrM5gMW",
        "outputId": "e849aecc-1246-4062-8369-71f3548d0a1c"
      },
      "execution_count": null,
      "outputs": [
        {
          "output_type": "execute_result",
          "data": {
            "text/plain": [
              "dict_keys(['loss', 'mae'])"
            ]
          },
          "metadata": {},
          "execution_count": 51
        }
      ]
    },
    {
      "cell_type": "markdown",
      "source": [
        "using a larger model and the adam optimizer results in half the error"
      ],
      "metadata": {
        "id": "CClDhxu2KZAD"
      }
    },
    {
      "cell_type": "code",
      "source": [
        "# plot history (aka loss curve)\n",
        "plt.plot(history.history['mae'])\n",
        "plt.title('mae')\n",
        "plt.ylabel('mae')\n",
        "plt.xlabel('epochs')\n",
        "plt.legend()"
      ],
      "metadata": {
        "colab": {
          "base_uri": "https://localhost:8080/",
          "height": 529
        },
        "id": "pvAfKNsVKQnM",
        "outputId": "f5797807-c86e-4bb4-b843-e2f75b63b0a4"
      },
      "execution_count": null,
      "outputs": [
        {
          "output_type": "stream",
          "name": "stderr",
          "text": [
            "WARNING:matplotlib.legend:No artists with labels found to put in legend.  Note that artists whose label start with an underscore are ignored when legend() is called with no argument.\n"
          ]
        },
        {
          "output_type": "execute_result",
          "data": {
            "text/plain": [
              "<matplotlib.legend.Legend at 0x7c87c66f9990>"
            ]
          },
          "metadata": {},
          "execution_count": 52
        },
        {
          "output_type": "display_data",
          "data": {
            "text/plain": [
              "<Figure size 640x480 with 1 Axes>"
            ],
            "image/png": "[encoded data removed]"
          },
          "metadata": {}
        }
      ]
    },
    {
      "cell_type": "code",
      "source": [
        "plt.plot(history.history['loss'])\n",
        "plt.title('loss')\n",
        "plt.ylabel('loss')\n",
        "plt.xlabel('epochs')\n",
        "plt.show()"
      ],
      "metadata": {
        "colab": {
          "base_uri": "https://localhost:8080/",
          "height": 472
        },
        "id": "jYU9QQTU45nC",
        "outputId": "98dcb6bb-3b1f-45b0-fea4-0defaeed1dbb"
      },
      "execution_count": null,
      "outputs": [
        {
          "output_type": "display_data",
          "data": {
            "text/plain": [
              "<Figure size 640x480 with 1 Axes>"
            ],
            "image/png": "[encoded data removed]"
          },
          "metadata": {}
        }
      ]
    },
    {
      "cell_type": "markdown",
      "source": [
        "loss and mae are the same"
      ],
      "metadata": {
        "id": "uZ13bEJa7TRq"
      }
    },
    {
      "cell_type": "code",
      "source": [
        "# plotting loss with dataframe\n",
        "\n",
        "pd.DataFrame(history.history).plot()"
      ],
      "metadata": {
        "colab": {
          "base_uri": "https://localhost:8080/",
          "height": 448
        },
        "id": "S0XO9a3o7h1t",
        "outputId": "27fb2fa7-0aae-4ebe-c0b8-f06d329c541a"
      },
      "execution_count": null,
      "outputs": [
        {
          "output_type": "execute_result",
          "data": {
            "text/plain": [
              "<Axes: >"
            ]
          },
          "metadata": {},
          "execution_count": 56
        },
        {
          "output_type": "display_data",
          "data": {
            "text/plain": [
              "<Figure size 640x480 with 1 Axes>"
            ],
            "image/png": "[encoded data removed]"
          },
          "metadata": {}
        }
      ]
    },
    {
      "cell_type": "markdown",
      "source": [
        "We can train for longer but let's try another mehtod of imporving our model."
      ],
      "metadata": {
        "id": "Gzv7_IiQ8Rqf"
      }
    },
    {
      "cell_type": "markdown",
      "source": [
        "# Normalization and Standardization\n",
        " Normalization (scaling all values from their original range to, e.g. between 0 and 100,000 to be between 0 and 1).\n",
        "standardization which converts all of your data to unit variance and 0 mean."
      ],
      "metadata": {
        "id": "bn2vBj_E8gZw"
      }
    },
    {
      "cell_type": "code",
      "source": [
        "med_data.head()"
      ],
      "metadata": {
        "colab": {
          "base_uri": "https://localhost:8080/",
          "height": 206
        },
        "id": "jsoaHvut_Sqc",
        "outputId": "8acd5c3d-bda0-4687-e2c0-4b64da1d3bbc"
      },
      "execution_count": null,
      "outputs": [
        {
          "output_type": "execute_result",
          "data": {
            "text/plain": [
              "   age     sex     bmi  children smoker     region      charges\n",
              "0   19  female  27.900         0    yes  southwest  16884.92400\n",
              "1   18    male  33.770         1     no  southeast   1725.55230\n",
              "2   28    male  33.000         3     no  southeast   4449.46200\n",
              "3   33    male  22.705         0     no  northwest  21984.47061\n",
              "4   32    male  28.880         0     no  northwest   3866.85520"
            ],
            "text/html": [
              "\n",
              "  <div id=\"df-a98cc3ff-7496-4d7c-8d2f-6fc6e05d8496\" class=\"colab-df-container\">\n",
              "    <div>\n",
              "<style scoped>\n",
              "    .dataframe tbody tr th:only-of-type {\n",
              "        vertical-align: middle;\n",
              "    }\n",
              "\n",
              "    .dataframe tbody tr th {\n",
              "        vertical-align: top;\n",
              "    }\n",
              "\n",
              "    .dataframe thead th {\n",
              "        text-align: right;\n",
              "    }\n",
              "</style>\n",
              "<table border=\"1\" class=\"dataframe\">\n",
              "  <thead>\n",
              "    <tr style=\"text-align: right;\">\n",
              "      <th></th>\n",
              "      <th>age</th>\n",
              "      <th>sex</th>\n",
              "      <th>bmi</th>\n",
              "      <th>children</th>\n",
              "      <th>smoker</th>\n",
              "      <th>region</th>\n",
              "      <th>charges</th>\n",
              "    </tr>\n",
              "  </thead>\n",
              "  <tbody>\n",
              "    <tr>\n",
              "      <th>0</th>\n",
              "      <td>19</td>\n",
              "      <td>female</td>\n",
              "      <td>27.900</td>\n",
              "      <td>0</td>\n",
              "      <td>yes</td>\n",
              "      <td>southwest</td>\n",
              "      <td>16884.92400</td>\n",
              "    </tr>\n",
              "    <tr>\n",
              "      <th>1</th>\n",
              "      <td>18</td>\n",
              "      <td>male</td>\n",
              "      <td>33.770</td>\n",
              "      <td>1</td>\n",
              "      <td>no</td>\n",
              "      <td>southeast</td>\n",
              "      <td>1725.55230</td>\n",
              "    </tr>\n",
              "    <tr>\n",
              "      <th>2</th>\n",
              "      <td>28</td>\n",
              "      <td>male</td>\n",
              "      <td>33.000</td>\n",
              "      <td>3</td>\n",
              "      <td>no</td>\n",
              "      <td>southeast</td>\n",
              "      <td>4449.46200</td>\n",
              "    </tr>\n",
              "    <tr>\n",
              "      <th>3</th>\n",
              "      <td>33</td>\n",
              "      <td>male</td>\n",
              "      <td>22.705</td>\n",
              "      <td>0</td>\n",
              "      <td>no</td>\n",
              "      <td>northwest</td>\n",
              "      <td>21984.47061</td>\n",
              "    </tr>\n",
              "    <tr>\n",
              "      <th>4</th>\n",
              "      <td>32</td>\n",
              "      <td>male</td>\n",
              "      <td>28.880</td>\n",
              "      <td>0</td>\n",
              "      <td>no</td>\n",
              "      <td>northwest</td>\n",
              "      <td>3866.85520</td>\n",
              "    </tr>\n",
              "  </tbody>\n",
              "</table>\n",
              "</div>\n",
              "    <div class=\"colab-df-buttons\">\n",
              "\n",
              "  <div class=\"colab-df-container\">\n",
              "    <button class=\"colab-df-convert\" onclick=\"convertToInteractive('df-a98cc3ff-7496-4d7c-8d2f-6fc6e05d8496')\"\n",
              "            title=\"Convert this dataframe to an interactive table.\"\n",
              "            style=\"display:none;\">\n",
              "\n",
              "  <svg xmlns=\"http://www.w3.org/2000/svg\" height=\"24px\" viewBox=\"0 -960 960 960\">\n",
              "    <path d=\"M120-120v-720h720v720H120Zm60-500h600v-160H180v160Zm220 220h160v-160H400v160Zm0 220h160v-160H400v160ZM180-400h160v-160H180v160Zm440 0h160v-160H620v160ZM180-180h160v-160H180v160Zm440 0h160v-160H620v160Z\"/>\n",
              "  </svg>\n",
              "    </button>\n",
              "\n",
              "  <style>\n",
              "    .colab-df-container {\n",
              "      display:flex;\n",
              "      gap: 12px;\n",
              "    }\n",
              "\n",
              "    .colab-df-convert {\n",
              "      background-color: #E8F0FE;\n",
              "      border: none;\n",
              "      border-radius: 50%;\n",
              "      cursor: pointer;\n",
              "      display: none;\n",
              "      fill: #1967D2;\n",
              "      height: 32px;\n",
              "      padding: 0 0 0 0;\n",
              "      width: 32px;\n",
              "    }\n",
              "\n",
              "    .colab-df-convert:hover {\n",
              "      background-color: #E2EBFA;\n",
              "      box-shadow: 0px 1px 2px rgba(60, 64, 67, 0.3), 0px 1px 3px 1px rgba(60, 64, 67, 0.15);\n",
              "      fill: #174EA6;\n",
              "    }\n",
              "\n",
              "    .colab-df-buttons div {\n",
              "      margin-bottom: 4px;\n",
              "    }\n",
              "\n",
              "    [theme=dark] .colab-df-convert {\n",
              "      background-color: #3B4455;\n",
              "      fill: #D2E3FC;\n",
              "    }\n",
              "\n",
              "    [theme=dark] .colab-df-convert:hover {\n",
              "      background-color: #434B5C;\n",
              "      box-shadow: 0px 1px 3px 1px rgba(0, 0, 0, 0.15);\n",
              "      filter: drop-shadow(0px 1px 2px rgba(0, 0, 0, 0.3));\n",
              "      fill: #FFFFFF;\n",
              "    }\n",
              "  </style>\n",
              "\n",
              "    <script>\n",
              "      const buttonEl =\n",
              "        document.querySelector('#df-a98cc3ff-7496-4d7c-8d2f-6fc6e05d8496 button.colab-df-convert');\n",
              "      buttonEl.style.display =\n",
              "        google.colab.kernel.accessAllowed ? 'block' : 'none';\n",
              "\n",
              "      async function convertToInteractive(key) {\n",
              "        const element = document.querySelector('#df-a98cc3ff-7496-4d7c-8d2f-6fc6e05d8496');\n",
              "        const dataTable =\n",
              "          await google.colab.kernel.invokeFunction('convertToInteractive',\n",
              "                                                    [key], {});\n",
              "        if (!dataTable) return;\n",
              "\n",
              "        const docLinkHtml = 'Like what you see? Visit the ' +\n",
              "          '<a target=\"_blank\" href=https://colab.research.google.com/notebooks/data_table.ipynb>data table notebook</a>'\n",
              "          + ' to learn more about interactive tables.';\n",
              "        element.innerHTML = '';\n",
              "        dataTable['output_type'] = 'display_data';\n",
              "        await google.colab.output.renderOutput(dataTable, element);\n",
              "        const docLink = document.createElement('div');\n",
              "        docLink.innerHTML = docLinkHtml;\n",
              "        element.appendChild(docLink);\n",
              "      }\n",
              "    </script>\n",
              "  </div>\n",
              "\n",
              "\n",
              "<div id=\"df-6f5a3140-6b41-44c9-b7c5-0d6f30201474\">\n",
              "  <button class=\"colab-df-quickchart\" onclick=\"quickchart('df-6f5a3140-6b41-44c9-b7c5-0d6f30201474')\"\n",
              "            title=\"Suggest charts.\"\n",
              "            style=\"display:none;\">\n",
              "\n",
              "<svg xmlns=\"http://www.w3.org/2000/svg\" height=\"24px\"viewBox=\"0 0 24 24\"\n",
              "     width=\"24px\">\n",
              "    <g>\n",
              "        <path d=\"M19 3H5c-1.1 0-2 .9-2 2v14c0 1.1.9 2 2 2h14c1.1 0 2-.9 2-2V5c0-1.1-.9-2-2-2zM9 17H7v-7h2v7zm4 0h-2V7h2v10zm4 0h-2v-4h2v4z\"/>\n",
              "    </g>\n",
              "</svg>\n",
              "  </button>\n",
              "\n",
              "<style>\n",
              "  .colab-df-quickchart {\n",
              "      --bg-color: #E8F0FE;\n",
              "      --fill-color: #1967D2;\n",
              "      --hover-bg-color: #E2EBFA;\n",
              "      --hover-fill-color: #174EA6;\n",
              "      --disabled-fill-color: #AAA;\n",
              "      --disabled-bg-color: #DDD;\n",
              "  }\n",
              "\n",
              "  [theme=dark] .colab-df-quickchart {\n",
              "      --bg-color: #3B4455;\n",
              "      --fill-color: #D2E3FC;\n",
              "      --hover-bg-color: #434B5C;\n",
              "      --hover-fill-color: #FFFFFF;\n",
              "      --disabled-bg-color: #3B4455;\n",
              "      --disabled-fill-color: #666;\n",
              "  }\n",
              "\n",
              "  .colab-df-quickchart {\n",
              "    background-color: var(--bg-color);\n",
              "    border: none;\n",
              "    border-radius: 50%;\n",
              "    cursor: pointer;\n",
              "    display: none;\n",
              "    fill: var(--fill-color);\n",
              "    height: 32px;\n",
              "    padding: 0;\n",
              "    width: 32px;\n",
              "  }\n",
              "\n",
              "  .colab-df-quickchart:hover {\n",
              "    background-color: var(--hover-bg-color);\n",
              "    box-shadow: 0 1px 2px rgba(60, 64, 67, 0.3), 0 1px 3px 1px rgba(60, 64, 67, 0.15);\n",
              "    fill: var(--button-hover-fill-color);\n",
              "  }\n",
              "\n",
              "  .colab-df-quickchart-complete:disabled,\n",
              "  .colab-df-quickchart-complete:disabled:hover {\n",
              "    background-color: var(--disabled-bg-color);\n",
              "    fill: var(--disabled-fill-color);\n",
              "    box-shadow: none;\n",
              "  }\n",
              "\n",
              "  .colab-df-spinner {\n",
              "    border: 2px solid var(--fill-color);\n",
              "    border-color: transparent;\n",
              "    border-bottom-color: var(--fill-color);\n",
              "    animation:\n",
              "      spin 1s steps(1) infinite;\n",
              "  }\n",
              "\n",
              "  @keyframes spin {\n",
              "    0% {\n",
              "      border-color: transparent;\n",
              "      border-bottom-color: var(--fill-color);\n",
              "      border-left-color: var(--fill-color);\n",
              "    }\n",
              "    20% {\n",
              "      border-color: transparent;\n",
              "      border-left-color: var(--fill-color);\n",
              "      border-top-color: var(--fill-color);\n",
              "    }\n",
              "    30% {\n",
              "      border-color: transparent;\n",
              "      border-left-color: var(--fill-color);\n",
              "      border-top-color: var(--fill-color);\n",
              "      border-right-color: var(--fill-color);\n",
              "    }\n",
              "    40% {\n",
              "      border-color: transparent;\n",
              "      border-right-color: var(--fill-color);\n",
              "      border-top-color: var(--fill-color);\n",
              "    }\n",
              "    60% {\n",
              "      border-color: transparent;\n",
              "      border-right-color: var(--fill-color);\n",
              "    }\n",
              "    80% {\n",
              "      border-color: transparent;\n",
              "      border-right-color: var(--fill-color);\n",
              "      border-bottom-color: var(--fill-color);\n",
              "    }\n",
              "    90% {\n",
              "      border-color: transparent;\n",
              "      border-bottom-color: var(--fill-color);\n",
              "    }\n",
              "  }\n",
              "</style>\n",
              "\n",
              "  <script>\n",
              "    async function quickchart(key) {\n",
              "      const quickchartButtonEl =\n",
              "        document.querySelector('#' + key + ' button');\n",
              "      quickchartButtonEl.disabled = true;  // To prevent multiple clicks.\n",
              "      quickchartButtonEl.classList.add('colab-df-spinner');\n",
              "      try {\n",
              "        const charts = await google.colab.kernel.invokeFunction(\n",
              "            'suggestCharts', [key], {});\n",
              "      } catch (error) {\n",
              "        console.error('Error during call to suggestCharts:', error);\n",
              "      }\n",
              "      quickchartButtonEl.classList.remove('colab-df-spinner');\n",
              "      quickchartButtonEl.classList.add('colab-df-quickchart-complete');\n",
              "    }\n",
              "    (() => {\n",
              "      let quickchartButtonEl =\n",
              "        document.querySelector('#df-6f5a3140-6b41-44c9-b7c5-0d6f30201474 button');\n",
              "      quickchartButtonEl.style.display =\n",
              "        google.colab.kernel.accessAllowed ? 'block' : 'none';\n",
              "    })();\n",
              "  </script>\n",
              "</div>\n",
              "    </div>\n",
              "  </div>\n"
            ]
          },
          "metadata": {},
          "execution_count": 57
        }
      ]
    },
    {
      "cell_type": "code",
      "source": [
        "X_train.head()\n"
      ],
      "metadata": {
        "id": "zM9MK-nTBnbj"
      },
      "execution_count": null,
      "outputs": []
    },
    {
      "cell_type": "code",
      "source": [
        "y_train.describe()"
      ],
      "metadata": {
        "colab": {
          "base_uri": "https://localhost:8080/"
        },
        "id": "Jd99PpOhB9V_",
        "outputId": "4fc4e509-b946-4870-838e-03f8a3949a03"
      },
      "execution_count": null,
      "outputs": [
        {
          "output_type": "execute_result",
          "data": {
            "text/plain": [
              "count     1070.000000\n",
              "mean     13346.089736\n",
              "std      12019.510778\n",
              "min       1121.873900\n",
              "25%       4897.667387\n",
              "50%       9575.442100\n",
              "75%      16746.657400\n",
              "max      62592.873090\n",
              "Name: charges, dtype: float64"
            ]
          },
          "metadata": {},
          "execution_count": 64
        }
      ]
    },
    {
      "cell_type": "code",
      "source": [
        "from sklearn.preprocessing import MinMaxScaler"
      ],
      "metadata": {
        "id": "yFxxNPDQAJJb"
      },
      "execution_count": null,
      "outputs": []
    },
    {
      "cell_type": "code",
      "source": [
        "scaler = MinMaxScaler()\n",
        "X_train_norm = scaler.fit_transform(X_train)\n",
        "X_test_norm = scaler.fit_transform(X_test)\n"
      ],
      "metadata": {
        "id": "kRihgyQgAVkP"
      },
      "execution_count": null,
      "outputs": []
    },
    {
      "cell_type": "code",
      "source": [
        "X_train_norm"
      ],
      "metadata": {
        "colab": {
          "base_uri": "https://localhost:8080/"
        },
        "id": "d65PF8NJCs7-",
        "outputId": "3e69e2e5-d428-4a9a-c744-a35091520e15"
      },
      "execution_count": null,
      "outputs": [
        {
          "output_type": "execute_result",
          "data": {
            "text/plain": [
              "array([[0.60869565, 0.10734463, 0.4       , ..., 1.        , 0.        ,\n",
              "        0.        ],\n",
              "       [0.63043478, 0.22491256, 0.        , ..., 0.        , 0.        ,\n",
              "        0.        ],\n",
              "       [0.73913043, 0.23944041, 0.        , ..., 0.        , 1.        ,\n",
              "        0.        ],\n",
              "       ...,\n",
              "       [0.86956522, 0.24791499, 0.        , ..., 0.        , 0.        ,\n",
              "        0.        ],\n",
              "       [0.41304348, 0.85122411, 0.4       , ..., 0.        , 0.        ,\n",
              "        1.        ],\n",
              "       [0.80434783, 0.37503363, 0.        , ..., 0.        , 0.        ,\n",
              "        1.        ]])"
            ]
          },
          "metadata": {},
          "execution_count": 72
        }
      ]
    },
    {
      "cell_type": "code",
      "source": [
        "pd.DataFrame(X_test_norm).head() #data has been normalized"
      ],
      "metadata": {
        "colab": {
          "base_uri": "https://localhost:8080/",
          "height": 206
        },
        "id": "1PzSKSW5Dh1t",
        "outputId": "e1b9b370-c6b3-47f3-e468-67024a89580e"
      },
      "execution_count": null,
      "outputs": [
        {
          "output_type": "execute_result",
          "data": {
            "text/plain": [
              "         0         1    2    3    4    5    6    7    8    9    10\n",
              "0  0.586957  0.233748  0.4  1.0  0.0  1.0  0.0  1.0  0.0  0.0  0.0\n",
              "1  0.391304  0.369216  0.0  1.0  0.0  1.0  0.0  0.0  1.0  0.0  0.0\n",
              "2  1.000000  0.281560  0.0  1.0  0.0  0.0  1.0  0.0  1.0  0.0  0.0\n",
              "3  0.608696  0.249685  0.6  0.0  1.0  1.0  0.0  0.0  1.0  0.0  0.0\n",
              "4  0.021739  0.422340  0.0  0.0  1.0  0.0  1.0  0.0  1.0  0.0  0.0"
            ],
            "text/html": [
              "\n",
              "  <div id=\"df-3dd04cea-5902-4cea-a195-cc7a33614181\" class=\"colab-df-container\">\n",
              "    <div>\n",
              "<style scoped>\n",
              "    .dataframe tbody tr th:only-of-type {\n",
              "        vertical-align: middle;\n",
              "    }\n",
              "\n",
              "    .dataframe tbody tr th {\n",
              "        vertical-align: top;\n",
              "    }\n",
              "\n",
              "    .dataframe thead th {\n",
              "        text-align: right;\n",
              "    }\n",
              "</style>\n",
              "<table border=\"1\" class=\"dataframe\">\n",
              "  <thead>\n",
              "    <tr style=\"text-align: right;\">\n",
              "      <th></th>\n",
              "      <th>0</th>\n",
              "      <th>1</th>\n",
              "      <th>2</th>\n",
              "      <th>3</th>\n",
              "      <th>4</th>\n",
              "      <th>5</th>\n",
              "      <th>6</th>\n",
              "      <th>7</th>\n",
              "      <th>8</th>\n",
              "      <th>9</th>\n",
              "      <th>10</th>\n",
              "    </tr>\n",
              "  </thead>\n",
              "  <tbody>\n",
              "    <tr>\n",
              "      <th>0</th>\n",
              "      <td>0.586957</td>\n",
              "      <td>0.233748</td>\n",
              "      <td>0.4</td>\n",
              "      <td>1.0</td>\n",
              "      <td>0.0</td>\n",
              "      <td>1.0</td>\n",
              "      <td>0.0</td>\n",
              "      <td>1.0</td>\n",
              "      <td>0.0</td>\n",
              "      <td>0.0</td>\n",
              "      <td>0.0</td>\n",
              "    </tr>\n",
              "    <tr>\n",
              "      <th>1</th>\n",
              "      <td>0.391304</td>\n",
              "      <td>0.369216</td>\n",
              "      <td>0.0</td>\n",
              "      <td>1.0</td>\n",
              "      <td>0.0</td>\n",
              "      <td>1.0</td>\n",
              "      <td>0.0</td>\n",
              "      <td>0.0</td>\n",
              "      <td>1.0</td>\n",
              "      <td>0.0</td>\n",
              "      <td>0.0</td>\n",
              "    </tr>\n",
              "    <tr>\n",
              "      <th>2</th>\n",
              "      <td>1.000000</td>\n",
              "      <td>0.281560</td>\n",
              "      <td>0.0</td>\n",
              "      <td>1.0</td>\n",
              "      <td>0.0</td>\n",
              "      <td>0.0</td>\n",
              "      <td>1.0</td>\n",
              "      <td>0.0</td>\n",
              "      <td>1.0</td>\n",
              "      <td>0.0</td>\n",
              "      <td>0.0</td>\n",
              "    </tr>\n",
              "    <tr>\n",
              "      <th>3</th>\n",
              "      <td>0.608696</td>\n",
              "      <td>0.249685</td>\n",
              "      <td>0.6</td>\n",
              "      <td>0.0</td>\n",
              "      <td>1.0</td>\n",
              "      <td>1.0</td>\n",
              "      <td>0.0</td>\n",
              "      <td>0.0</td>\n",
              "      <td>1.0</td>\n",
              "      <td>0.0</td>\n",
              "      <td>0.0</td>\n",
              "    </tr>\n",
              "    <tr>\n",
              "      <th>4</th>\n",
              "      <td>0.021739</td>\n",
              "      <td>0.422340</td>\n",
              "      <td>0.0</td>\n",
              "      <td>0.0</td>\n",
              "      <td>1.0</td>\n",
              "      <td>0.0</td>\n",
              "      <td>1.0</td>\n",
              "      <td>0.0</td>\n",
              "      <td>1.0</td>\n",
              "      <td>0.0</td>\n",
              "      <td>0.0</td>\n",
              "    </tr>\n",
              "  </tbody>\n",
              "</table>\n",
              "</div>\n",
              "    <div class=\"colab-df-buttons\">\n",
              "\n",
              "  <div class=\"colab-df-container\">\n",
              "    <button class=\"colab-df-convert\" onclick=\"convertToInteractive('df-3dd04cea-5902-4cea-a195-cc7a33614181')\"\n",
              "            title=\"Convert this dataframe to an interactive table.\"\n",
              "            style=\"display:none;\">\n",
              "\n",
              "  <svg xmlns=\"http://www.w3.org/2000/svg\" height=\"24px\" viewBox=\"0 -960 960 960\">\n",
              "    <path d=\"M120-120v-720h720v720H120Zm60-500h600v-160H180v160Zm220 220h160v-160H400v160Zm0 220h160v-160H400v160ZM180-400h160v-160H180v160Zm440 0h160v-160H620v160ZM180-180h160v-160H180v160Zm440 0h160v-160H620v160Z\"/>\n",
              "  </svg>\n",
              "    </button>\n",
              "\n",
              "  <style>\n",
              "    .colab-df-container {\n",
              "      display:flex;\n",
              "      gap: 12px;\n",
              "    }\n",
              "\n",
              "    .colab-df-convert {\n",
              "      background-color: #E8F0FE;\n",
              "      border: none;\n",
              "      border-radius: 50%;\n",
              "      cursor: pointer;\n",
              "      display: none;\n",
              "      fill: #1967D2;\n",
              "      height: 32px;\n",
              "      padding: 0 0 0 0;\n",
              "      width: 32px;\n",
              "    }\n",
              "\n",
              "    .colab-df-convert:hover {\n",
              "      background-color: #E2EBFA;\n",
              "      box-shadow: 0px 1px 2px rgba(60, 64, 67, 0.3), 0px 1px 3px 1px rgba(60, 64, 67, 0.15);\n",
              "      fill: #174EA6;\n",
              "    }\n",
              "\n",
              "    .colab-df-buttons div {\n",
              "      margin-bottom: 4px;\n",
              "    }\n",
              "\n",
              "    [theme=dark] .colab-df-convert {\n",
              "      background-color: #3B4455;\n",
              "      fill: #D2E3FC;\n",
              "    }\n",
              "\n",
              "    [theme=dark] .colab-df-convert:hover {\n",
              "      background-color: #434B5C;\n",
              "      box-shadow: 0px 1px 3px 1px rgba(0, 0, 0, 0.15);\n",
              "      filter: drop-shadow(0px 1px 2px rgba(0, 0, 0, 0.3));\n",
              "      fill: #FFFFFF;\n",
              "    }\n",
              "  </style>\n",
              "\n",
              "    <script>\n",
              "      const buttonEl =\n",
              "        document.querySelector('#df-3dd04cea-5902-4cea-a195-cc7a33614181 button.colab-df-convert');\n",
              "      buttonEl.style.display =\n",
              "        google.colab.kernel.accessAllowed ? 'block' : 'none';\n",
              "\n",
              "      async function convertToInteractive(key) {\n",
              "        const element = document.querySelector('#df-3dd04cea-5902-4cea-a195-cc7a33614181');\n",
              "        const dataTable =\n",
              "          await google.colab.kernel.invokeFunction('convertToInteractive',\n",
              "                                                    [key], {});\n",
              "        if (!dataTable) return;\n",
              "\n",
              "        const docLinkHtml = 'Like what you see? Visit the ' +\n",
              "          '<a target=\"_blank\" href=https://colab.research.google.com/notebooks/data_table.ipynb>data table notebook</a>'\n",
              "          + ' to learn more about interactive tables.';\n",
              "        element.innerHTML = '';\n",
              "        dataTable['output_type'] = 'display_data';\n",
              "        await google.colab.output.renderOutput(dataTable, element);\n",
              "        const docLink = document.createElement('div');\n",
              "        docLink.innerHTML = docLinkHtml;\n",
              "        element.appendChild(docLink);\n",
              "      }\n",
              "    </script>\n",
              "  </div>\n",
              "\n",
              "\n",
              "<div id=\"df-08ad6539-217b-4f6a-8ca7-61cdbe10a2e5\">\n",
              "  <button class=\"colab-df-quickchart\" onclick=\"quickchart('df-08ad6539-217b-4f6a-8ca7-61cdbe10a2e5')\"\n",
              "            title=\"Suggest charts.\"\n",
              "            style=\"display:none;\">\n",
              "\n",
              "<svg xmlns=\"http://www.w3.org/2000/svg\" height=\"24px\"viewBox=\"0 0 24 24\"\n",
              "     width=\"24px\">\n",
              "    <g>\n",
              "        <path d=\"M19 3H5c-1.1 0-2 .9-2 2v14c0 1.1.9 2 2 2h14c1.1 0 2-.9 2-2V5c0-1.1-.9-2-2-2zM9 17H7v-7h2v7zm4 0h-2V7h2v10zm4 0h-2v-4h2v4z\"/>\n",
              "    </g>\n",
              "</svg>\n",
              "  </button>\n",
              "\n",
              "<style>\n",
              "  .colab-df-quickchart {\n",
              "      --bg-color: #E8F0FE;\n",
              "      --fill-color: #1967D2;\n",
              "      --hover-bg-color: #E2EBFA;\n",
              "      --hover-fill-color: #174EA6;\n",
              "      --disabled-fill-color: #AAA;\n",
              "      --disabled-bg-color: #DDD;\n",
              "  }\n",
              "\n",
              "  [theme=dark] .colab-df-quickchart {\n",
              "      --bg-color: #3B4455;\n",
              "      --fill-color: #D2E3FC;\n",
              "      --hover-bg-color: #434B5C;\n",
              "      --hover-fill-color: #FFFFFF;\n",
              "      --disabled-bg-color: #3B4455;\n",
              "      --disabled-fill-color: #666;\n",
              "  }\n",
              "\n",
              "  .colab-df-quickchart {\n",
              "    background-color: var(--bg-color);\n",
              "    border: none;\n",
              "    border-radius: 50%;\n",
              "    cursor: pointer;\n",
              "    display: none;\n",
              "    fill: var(--fill-color);\n",
              "    height: 32px;\n",
              "    padding: 0;\n",
              "    width: 32px;\n",
              "  }\n",
              "\n",
              "  .colab-df-quickchart:hover {\n",
              "    background-color: var(--hover-bg-color);\n",
              "    box-shadow: 0 1px 2px rgba(60, 64, 67, 0.3), 0 1px 3px 1px rgba(60, 64, 67, 0.15);\n",
              "    fill: var(--button-hover-fill-color);\n",
              "  }\n",
              "\n",
              "  .colab-df-quickchart-complete:disabled,\n",
              "  .colab-df-quickchart-complete:disabled:hover {\n",
              "    background-color: var(--disabled-bg-color);\n",
              "    fill: var(--disabled-fill-color);\n",
              "    box-shadow: none;\n",
              "  }\n",
              "\n",
              "  .colab-df-spinner {\n",
              "    border: 2px solid var(--fill-color);\n",
              "    border-color: transparent;\n",
              "    border-bottom-color: var(--fill-color);\n",
              "    animation:\n",
              "      spin 1s steps(1) infinite;\n",
              "  }\n",
              "\n",
              "  @keyframes spin {\n",
              "    0% {\n",
              "      border-color: transparent;\n",
              "      border-bottom-color: var(--fill-color);\n",
              "      border-left-color: var(--fill-color);\n",
              "    }\n",
              "    20% {\n",
              "      border-color: transparent;\n",
              "      border-left-color: var(--fill-color);\n",
              "      border-top-color: var(--fill-color);\n",
              "    }\n",
              "    30% {\n",
              "      border-color: transparent;\n",
              "      border-left-color: var(--fill-color);\n",
              "      border-top-color: var(--fill-color);\n",
              "      border-right-color: var(--fill-color);\n",
              "    }\n",
              "    40% {\n",
              "      border-color: transparent;\n",
              "      border-right-color: var(--fill-color);\n",
              "      border-top-color: var(--fill-color);\n",
              "    }\n",
              "    60% {\n",
              "      border-color: transparent;\n",
              "      border-right-color: var(--fill-color);\n",
              "    }\n",
              "    80% {\n",
              "      border-color: transparent;\n",
              "      border-right-color: var(--fill-color);\n",
              "      border-bottom-color: var(--fill-color);\n",
              "    }\n",
              "    90% {\n",
              "      border-color: transparent;\n",
              "      border-bottom-color: var(--fill-color);\n",
              "    }\n",
              "  }\n",
              "</style>\n",
              "\n",
              "  <script>\n",
              "    async function quickchart(key) {\n",
              "      const quickchartButtonEl =\n",
              "        document.querySelector('#' + key + ' button');\n",
              "      quickchartButtonEl.disabled = true;  // To prevent multiple clicks.\n",
              "      quickchartButtonEl.classList.add('colab-df-spinner');\n",
              "      try {\n",
              "        const charts = await google.colab.kernel.invokeFunction(\n",
              "            'suggestCharts', [key], {});\n",
              "      } catch (error) {\n",
              "        console.error('Error during call to suggestCharts:', error);\n",
              "      }\n",
              "      quickchartButtonEl.classList.remove('colab-df-spinner');\n",
              "      quickchartButtonEl.classList.add('colab-df-quickchart-complete');\n",
              "    }\n",
              "    (() => {\n",
              "      let quickchartButtonEl =\n",
              "        document.querySelector('#df-08ad6539-217b-4f6a-8ca7-61cdbe10a2e5 button');\n",
              "      quickchartButtonEl.style.display =\n",
              "        google.colab.kernel.accessAllowed ? 'block' : 'none';\n",
              "    })();\n",
              "  </script>\n",
              "</div>\n",
              "    </div>\n",
              "  </div>\n"
            ]
          },
          "metadata": {},
          "execution_count": 74
        }
      ]
    },
    {
      "cell_type": "code",
      "source": [
        "X_train.loc[0]"
      ],
      "metadata": {
        "colab": {
          "base_uri": "https://localhost:8080/"
        },
        "id": "XgXffaxsDnFJ",
        "outputId": "e9fc9d0b-3d5c-4959-9f52-c157b5b200e5"
      },
      "execution_count": null,
      "outputs": [
        {
          "output_type": "execute_result",
          "data": {
            "text/plain": [
              "age                 19.0\n",
              "bmi                 27.9\n",
              "children             0.0\n",
              "sex_female           1.0\n",
              "sex_male             0.0\n",
              "smoker_no            0.0\n",
              "smoker_yes           1.0\n",
              "region_northeast     0.0\n",
              "region_northwest     0.0\n",
              "region_southeast     0.0\n",
              "region_southwest     1.0\n",
              "Name: 0, dtype: float64"
            ]
          },
          "metadata": {},
          "execution_count": 80
        }
      ]
    },
    {
      "cell_type": "code",
      "source": [
        "X_train_norm[0]"
      ],
      "metadata": {
        "colab": {
          "base_uri": "https://localhost:8080/"
        },
        "id": "_aTycTsGESGN",
        "outputId": "c05678c2-3dd4-4819-d33a-4145f2b7f406"
      },
      "execution_count": null,
      "outputs": [
        {
          "output_type": "execute_result",
          "data": {
            "text/plain": [
              "array([0.60869565, 0.10734463, 0.4       , 1.        , 0.        ,\n",
              "       1.        , 0.        , 0.        , 1.        , 0.        ,\n",
              "       0.        ])"
            ]
          },
          "metadata": {},
          "execution_count": 83
        }
      ]
    },
    {
      "cell_type": "markdown",
      "source": [
        "Another method of normalizing data\n",
        "we normalize only X data"
      ],
      "metadata": {
        "id": "QvdMsbCpFhH_"
      }
    },
    {
      "cell_type": "code",
      "source": [
        "from sklearn.compose import make_column_transformer\n",
        "from sklearn.preprocessing import OneHotEncoder"
      ],
      "metadata": {
        "id": "wsnLlYdtFQXY"
      },
      "execution_count": null,
      "outputs": []
    },
    {
      "cell_type": "code",
      "source": [
        "med_data.head()"
      ],
      "metadata": {
        "colab": {
          "base_uri": "https://localhost:8080/",
          "height": 206
        },
        "id": "CAEPImChI0mj",
        "outputId": "99dcf2b0-1849-40ed-9b89-983e1dc518a4"
      },
      "execution_count": null,
      "outputs": [
        {
          "output_type": "execute_result",
          "data": {
            "text/plain": [
              "   age     sex     bmi  children smoker     region      charges\n",
              "0   19  female  27.900         0    yes  southwest  16884.92400\n",
              "1   18    male  33.770         1     no  southeast   1725.55230\n",
              "2   28    male  33.000         3     no  southeast   4449.46200\n",
              "3   33    male  22.705         0     no  northwest  21984.47061\n",
              "4   32    male  28.880         0     no  northwest   3866.85520"
            ],
            "text/html": [
              "\n",
              "  <div id=\"df-76adc59e-a1e6-472a-9e97-e0040e090567\" class=\"colab-df-container\">\n",
              "    <div>\n",
              "<style scoped>\n",
              "    .dataframe tbody tr th:only-of-type {\n",
              "        vertical-align: middle;\n",
              "    }\n",
              "\n",
              "    .dataframe tbody tr th {\n",
              "        vertical-align: top;\n",
              "    }\n",
              "\n",
              "    .dataframe thead th {\n",
              "        text-align: right;\n",
              "    }\n",
              "</style>\n",
              "<table border=\"1\" class=\"dataframe\">\n",
              "  <thead>\n",
              "    <tr style=\"text-align: right;\">\n",
              "      <th></th>\n",
              "      <th>age</th>\n",
              "      <th>sex</th>\n",
              "      <th>bmi</th>\n",
              "      <th>children</th>\n",
              "      <th>smoker</th>\n",
              "      <th>region</th>\n",
              "      <th>charges</th>\n",
              "    </tr>\n",
              "  </thead>\n",
              "  <tbody>\n",
              "    <tr>\n",
              "      <th>0</th>\n",
              "      <td>19</td>\n",
              "      <td>female</td>\n",
              "      <td>27.900</td>\n",
              "      <td>0</td>\n",
              "      <td>yes</td>\n",
              "      <td>southwest</td>\n",
              "      <td>16884.92400</td>\n",
              "    </tr>\n",
              "    <tr>\n",
              "      <th>1</th>\n",
              "      <td>18</td>\n",
              "      <td>male</td>\n",
              "      <td>33.770</td>\n",
              "      <td>1</td>\n",
              "      <td>no</td>\n",
              "      <td>southeast</td>\n",
              "      <td>1725.55230</td>\n",
              "    </tr>\n",
              "    <tr>\n",
              "      <th>2</th>\n",
              "      <td>28</td>\n",
              "      <td>male</td>\n",
              "      <td>33.000</td>\n",
              "      <td>3</td>\n",
              "      <td>no</td>\n",
              "      <td>southeast</td>\n",
              "      <td>4449.46200</td>\n",
              "    </tr>\n",
              "    <tr>\n",
              "      <th>3</th>\n",
              "      <td>33</td>\n",
              "      <td>male</td>\n",
              "      <td>22.705</td>\n",
              "      <td>0</td>\n",
              "      <td>no</td>\n",
              "      <td>northwest</td>\n",
              "      <td>21984.47061</td>\n",
              "    </tr>\n",
              "    <tr>\n",
              "      <th>4</th>\n",
              "      <td>32</td>\n",
              "      <td>male</td>\n",
              "      <td>28.880</td>\n",
              "      <td>0</td>\n",
              "      <td>no</td>\n",
              "      <td>northwest</td>\n",
              "      <td>3866.85520</td>\n",
              "    </tr>\n",
              "  </tbody>\n",
              "</table>\n",
              "</div>\n",
              "    <div class=\"colab-df-buttons\">\n",
              "\n",
              "  <div class=\"colab-df-container\">\n",
              "    <button class=\"colab-df-convert\" onclick=\"convertToInteractive('df-76adc59e-a1e6-472a-9e97-e0040e090567')\"\n",
              "            title=\"Convert this dataframe to an interactive table.\"\n",
              "            style=\"display:none;\">\n",
              "\n",
              "  <svg xmlns=\"http://www.w3.org/2000/svg\" height=\"24px\" viewBox=\"0 -960 960 960\">\n",
              "    <path d=\"M120-120v-720h720v720H120Zm60-500h600v-160H180v160Zm220 220h160v-160H400v160Zm0 220h160v-160H400v160ZM180-400h160v-160H180v160Zm440 0h160v-160H620v160ZM180-180h160v-160H180v160Zm440 0h160v-160H620v160Z\"/>\n",
              "  </svg>\n",
              "    </button>\n",
              "\n",
              "  <style>\n",
              "    .colab-df-container {\n",
              "      display:flex;\n",
              "      gap: 12px;\n",
              "    }\n",
              "\n",
              "    .colab-df-convert {\n",
              "      background-color: #E8F0FE;\n",
              "      border: none;\n",
              "      border-radius: 50%;\n",
              "      cursor: pointer;\n",
              "      display: none;\n",
              "      fill: #1967D2;\n",
              "      height: 32px;\n",
              "      padding: 0 0 0 0;\n",
              "      width: 32px;\n",
              "    }\n",
              "\n",
              "    .colab-df-convert:hover {\n",
              "      background-color: #E2EBFA;\n",
              "      box-shadow: 0px 1px 2px rgba(60, 64, 67, 0.3), 0px 1px 3px 1px rgba(60, 64, 67, 0.15);\n",
              "      fill: #174EA6;\n",
              "    }\n",
              "\n",
              "    .colab-df-buttons div {\n",
              "      margin-bottom: 4px;\n",
              "    }\n",
              "\n",
              "    [theme=dark] .colab-df-convert {\n",
              "      background-color: #3B4455;\n",
              "      fill: #D2E3FC;\n",
              "    }\n",
              "\n",
              "    [theme=dark] .colab-df-convert:hover {\n",
              "      background-color: #434B5C;\n",
              "      box-shadow: 0px 1px 3px 1px rgba(0, 0, 0, 0.15);\n",
              "      filter: drop-shadow(0px 1px 2px rgba(0, 0, 0, 0.3));\n",
              "      fill: #FFFFFF;\n",
              "    }\n",
              "  </style>\n",
              "\n",
              "    <script>\n",
              "      const buttonEl =\n",
              "        document.querySelector('#df-76adc59e-a1e6-472a-9e97-e0040e090567 button.colab-df-convert');\n",
              "      buttonEl.style.display =\n",
              "        google.colab.kernel.accessAllowed ? 'block' : 'none';\n",
              "\n",
              "      async function convertToInteractive(key) {\n",
              "        const element = document.querySelector('#df-76adc59e-a1e6-472a-9e97-e0040e090567');\n",
              "        const dataTable =\n",
              "          await google.colab.kernel.invokeFunction('convertToInteractive',\n",
              "                                                    [key], {});\n",
              "        if (!dataTable) return;\n",
              "\n",
              "        const docLinkHtml = 'Like what you see? Visit the ' +\n",
              "          '<a target=\"_blank\" href=https://colab.research.google.com/notebooks/data_table.ipynb>data table notebook</a>'\n",
              "          + ' to learn more about interactive tables.';\n",
              "        element.innerHTML = '';\n",
              "        dataTable['output_type'] = 'display_data';\n",
              "        await google.colab.output.renderOutput(dataTable, element);\n",
              "        const docLink = document.createElement('div');\n",
              "        docLink.innerHTML = docLinkHtml;\n",
              "        element.appendChild(docLink);\n",
              "      }\n",
              "    </script>\n",
              "  </div>\n",
              "\n",
              "\n",
              "<div id=\"df-ed410fb5-b25f-4c82-998e-c107decd37fb\">\n",
              "  <button class=\"colab-df-quickchart\" onclick=\"quickchart('df-ed410fb5-b25f-4c82-998e-c107decd37fb')\"\n",
              "            title=\"Suggest charts.\"\n",
              "            style=\"display:none;\">\n",
              "\n",
              "<svg xmlns=\"http://www.w3.org/2000/svg\" height=\"24px\"viewBox=\"0 0 24 24\"\n",
              "     width=\"24px\">\n",
              "    <g>\n",
              "        <path d=\"M19 3H5c-1.1 0-2 .9-2 2v14c0 1.1.9 2 2 2h14c1.1 0 2-.9 2-2V5c0-1.1-.9-2-2-2zM9 17H7v-7h2v7zm4 0h-2V7h2v10zm4 0h-2v-4h2v4z\"/>\n",
              "    </g>\n",
              "</svg>\n",
              "  </button>\n",
              "\n",
              "<style>\n",
              "  .colab-df-quickchart {\n",
              "      --bg-color: #E8F0FE;\n",
              "      --fill-color: #1967D2;\n",
              "      --hover-bg-color: #E2EBFA;\n",
              "      --hover-fill-color: #174EA6;\n",
              "      --disabled-fill-color: #AAA;\n",
              "      --disabled-bg-color: #DDD;\n",
              "  }\n",
              "\n",
              "  [theme=dark] .colab-df-quickchart {\n",
              "      --bg-color: #3B4455;\n",
              "      --fill-color: #D2E3FC;\n",
              "      --hover-bg-color: #434B5C;\n",
              "      --hover-fill-color: #FFFFFF;\n",
              "      --disabled-bg-color: #3B4455;\n",
              "      --disabled-fill-color: #666;\n",
              "  }\n",
              "\n",
              "  .colab-df-quickchart {\n",
              "    background-color: var(--bg-color);\n",
              "    border: none;\n",
              "    border-radius: 50%;\n",
              "    cursor: pointer;\n",
              "    display: none;\n",
              "    fill: var(--fill-color);\n",
              "    height: 32px;\n",
              "    padding: 0;\n",
              "    width: 32px;\n",
              "  }\n",
              "\n",
              "  .colab-df-quickchart:hover {\n",
              "    background-color: var(--hover-bg-color);\n",
              "    box-shadow: 0 1px 2px rgba(60, 64, 67, 0.3), 0 1px 3px 1px rgba(60, 64, 67, 0.15);\n",
              "    fill: var(--button-hover-fill-color);\n",
              "  }\n",
              "\n",
              "  .colab-df-quickchart-complete:disabled,\n",
              "  .colab-df-quickchart-complete:disabled:hover {\n",
              "    background-color: var(--disabled-bg-color);\n",
              "    fill: var(--disabled-fill-color);\n",
              "    box-shadow: none;\n",
              "  }\n",
              "\n",
              "  .colab-df-spinner {\n",
              "    border: 2px solid var(--fill-color);\n",
              "    border-color: transparent;\n",
              "    border-bottom-color: var(--fill-color);\n",
              "    animation:\n",
              "      spin 1s steps(1) infinite;\n",
              "  }\n",
              "\n",
              "  @keyframes spin {\n",
              "    0% {\n",
              "      border-color: transparent;\n",
              "      border-bottom-color: var(--fill-color);\n",
              "      border-left-color: var(--fill-color);\n",
              "    }\n",
              "    20% {\n",
              "      border-color: transparent;\n",
              "      border-left-color: var(--fill-color);\n",
              "      border-top-color: var(--fill-color);\n",
              "    }\n",
              "    30% {\n",
              "      border-color: transparent;\n",
              "      border-left-color: var(--fill-color);\n",
              "      border-top-color: var(--fill-color);\n",
              "      border-right-color: var(--fill-color);\n",
              "    }\n",
              "    40% {\n",
              "      border-color: transparent;\n",
              "      border-right-color: var(--fill-color);\n",
              "      border-top-color: var(--fill-color);\n",
              "    }\n",
              "    60% {\n",
              "      border-color: transparent;\n",
              "      border-right-color: var(--fill-color);\n",
              "    }\n",
              "    80% {\n",
              "      border-color: transparent;\n",
              "      border-right-color: var(--fill-color);\n",
              "      border-bottom-color: var(--fill-color);\n",
              "    }\n",
              "    90% {\n",
              "      border-color: transparent;\n",
              "      border-bottom-color: var(--fill-color);\n",
              "    }\n",
              "  }\n",
              "</style>\n",
              "\n",
              "  <script>\n",
              "    async function quickchart(key) {\n",
              "      const quickchartButtonEl =\n",
              "        document.querySelector('#' + key + ' button');\n",
              "      quickchartButtonEl.disabled = true;  // To prevent multiple clicks.\n",
              "      quickchartButtonEl.classList.add('colab-df-spinner');\n",
              "      try {\n",
              "        const charts = await google.colab.kernel.invokeFunction(\n",
              "            'suggestCharts', [key], {});\n",
              "      } catch (error) {\n",
              "        console.error('Error during call to suggestCharts:', error);\n",
              "      }\n",
              "      quickchartButtonEl.classList.remove('colab-df-spinner');\n",
              "      quickchartButtonEl.classList.add('colab-df-quickchart-complete');\n",
              "    }\n",
              "    (() => {\n",
              "      let quickchartButtonEl =\n",
              "        document.querySelector('#df-ed410fb5-b25f-4c82-998e-c107decd37fb button');\n",
              "      quickchartButtonEl.style.display =\n",
              "        google.colab.kernel.accessAllowed ? 'block' : 'none';\n",
              "    })();\n",
              "  </script>\n",
              "</div>\n",
              "    </div>\n",
              "  </div>\n"
            ]
          },
          "metadata": {},
          "execution_count": 85
        }
      ]
    },
    {
      "cell_type": "code",
      "source": [
        "ct = make_column_transformer(\n",
        "    (MinMaxScaler(), ['age', 'bmi', 'children']),\n",
        "    (OneHotEncoder(handle_unknown='ignore'), ['sex', 'smoker','region']))\n",
        "# create X and y\n",
        "X1 = med_data.drop('charges', axis=1)\n",
        "y1 = med_data['charges']\n",
        "\n",
        "#aplit the data\n",
        "#X & Y must be arrnaged in the same order\n",
        "X_train, X_test, y_train, y_test = train_test_split(X1, y1, test_size=0.2,\n",
        "                                                    random_state=42)\n",
        "\n",
        "\n",
        "#fit the column transformer on the trainig data only\n",
        "#(doing so on test data would result in data leakage\n",
        "ct.fit(X_train)\n",
        "\n",
        "\n",
        "#transform trainig and test data with normalization\n",
        "X_train_normal = ct.transform(X_train)\n",
        "X_test_normal = ct.transform(X_test)\n",
        "\n",
        "\n",
        "\n",
        "\n"
      ],
      "metadata": {
        "id": "KhAJwuBvIbuI"
      },
      "execution_count": null,
      "outputs": []
    },
    {
      "cell_type": "code",
      "source": [
        "len(y_train)"
      ],
      "metadata": {
        "colab": {
          "base_uri": "https://localhost:8080/"
        },
        "id": "SnO3qj70S-Od",
        "outputId": "7df65499-3334-4f9b-b466-1f2b04a6f3e7"
      },
      "execution_count": null,
      "outputs": [
        {
          "output_type": "execute_result",
          "data": {
            "text/plain": [
              "1070"
            ]
          },
          "metadata": {},
          "execution_count": 103
        }
      ]
    },
    {
      "cell_type": "code",
      "source": [
        "X_train_normal"
      ],
      "metadata": {
        "colab": {
          "base_uri": "https://localhost:8080/"
        },
        "id": "U2EZkW_QOLMr",
        "outputId": "a65d1af3-dda3-4107-a332-2abb915f4b37"
      },
      "execution_count": null,
      "outputs": [
        {
          "output_type": "execute_result",
          "data": {
            "text/plain": [
              "array([[0.60869565, 0.10734463, 0.4       , ..., 1.        , 0.        ,\n",
              "        0.        ],\n",
              "       [0.63043478, 0.22491256, 0.        , ..., 0.        , 0.        ,\n",
              "        0.        ],\n",
              "       [0.73913043, 0.23944041, 0.        , ..., 0.        , 1.        ,\n",
              "        0.        ],\n",
              "       ...,\n",
              "       [0.86956522, 0.24791499, 0.        , ..., 0.        , 0.        ,\n",
              "        0.        ],\n",
              "       [0.41304348, 0.85122411, 0.4       , ..., 0.        , 0.        ,\n",
              "        1.        ],\n",
              "       [0.80434783, 0.37503363, 0.        , ..., 0.        , 0.        ,\n",
              "        1.        ]])"
            ]
          },
          "metadata": {},
          "execution_count": 90
        }
      ]
    },
    {
      "cell_type": "code",
      "source": [
        "len(y1), len(X1)"
      ],
      "metadata": {
        "colab": {
          "base_uri": "https://localhost:8080/"
        },
        "id": "sFVr_en9SOV7",
        "outputId": "8749c4cc-d7e5-44bb-8e71-e30ac4495b14"
      },
      "execution_count": null,
      "outputs": [
        {
          "output_type": "execute_result",
          "data": {
            "text/plain": [
              "(1338, 1338)"
            ]
          },
          "metadata": {},
          "execution_count": 97
        }
      ]
    },
    {
      "cell_type": "markdown",
      "source": [
        "Now let's create a model with the normalized data"
      ],
      "metadata": {
        "id": "ahWbPK42Ogyc"
      }
    },
    {
      "cell_type": "code",
      "source": [
        "tf.random.set_seed(42)\n",
        "\n",
        "med_model2 = tf.keras.Sequential([\n",
        "    tf.keras.layers.Dense(100),\n",
        "    tf.keras.layers.Dense(10),\n",
        "    tf.keras.layers.Dense(1)\n",
        "])\n",
        "\n",
        "med_model2.compile(loss=tf.keras.losses.MAE,\n",
        "                   optimizer=tf.keras.optimizers.Adam(),\n",
        "                   metrics=['mae'])\n",
        "\n",
        "history1 = med_model2.fit(tf.expand_dims(X_train_normal, axis=1), y_train, epochs=200, verbose=0)"
      ],
      "metadata": {
        "id": "0_pj-WVXOOvl"
      },
      "execution_count": null,
      "outputs": []
    },
    {
      "cell_type": "code",
      "source": [
        "#LETS EVALUATE\n",
        "norm_model = pd.DataFrame(med_model2.evaluate(X_test_normal, y_test))"
      ],
      "metadata": {
        "colab": {
          "base_uri": "https://localhost:8080/"
        },
        "id": "abcsZUkcTrhz",
        "outputId": "68818c12-3cad-48bd-de09-f0de165228e1"
      },
      "execution_count": null,
      "outputs": [
        {
          "output_type": "stream",
          "name": "stdout",
          "text": [
            "9/9 [==============================] - 0s 2ms/step - loss: 3173.8821 - mae: 3173.8821\n"
          ]
        }
      ]
    },
    {
      "cell_type": "code",
      "source": [
        "med_model_eval"
      ],
      "metadata": {
        "colab": {
          "base_uri": "https://localhost:8080/"
        },
        "id": "gEISsxBmYRLx",
        "outputId": "409a5df0-fe02-4ae0-9833-8edd1560390d"
      },
      "execution_count": null,
      "outputs": [
        {
          "output_type": "execute_result",
          "data": {
            "text/plain": [
              "[4596.07275390625, 4596.07275390625]"
            ]
          },
          "metadata": {},
          "execution_count": 126
        }
      ]
    },
    {
      "cell_type": "code",
      "source": [
        "print('the loss/mae of our normalized data:', (norm_model))\n",
        "print( '\\nthe loss/mae of our unnormalized data', (med_model_eval))"
      ],
      "metadata": {
        "colab": {
          "base_uri": "https://localhost:8080/"
        },
        "id": "BW576njlY2OY",
        "outputId": "dd31c754-95a2-4876-cc6c-7605a7ee1981"
      },
      "execution_count": null,
      "outputs": [
        {
          "output_type": "stream",
          "name": "stdout",
          "text": [
            "the loss/mae of our normalized data:             0\n",
            "0  3173.88208\n",
            "1  3173.88208\n",
            "\n",
            "the loss/mae of our unnormalized data [4596.07275390625, 4596.07275390625]\n"
          ]
        }
      ]
    },
    {
      "cell_type": "markdown",
      "source": [
        "So normalization defintely improves the results of models.\n",
        "Next we take on classification problems using neural networks"
      ],
      "metadata": {
        "id": "Q6A9BADXbAcg"
      }
    },
    {
      "cell_type": "code",
      "source": [],
      "metadata": {
        "id": "q2mjrHWLbDZC"
      },
      "execution_count": null,
      "outputs": []
    }
  ]
}